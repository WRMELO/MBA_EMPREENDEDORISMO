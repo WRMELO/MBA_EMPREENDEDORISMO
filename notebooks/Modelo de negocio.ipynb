{
 "cells": [
  {
   "cell_type": "code",
   "execution_count": 1,
   "id": "dca0958d",
   "metadata": {},
   "outputs": [
    {
     "data": {
      "application/vnd.plotly.v1+json": {
       "config": {
        "plotlyServerURL": "https://plot.ly"
       },
       "data": [
        {
         "customdata": [
          [
           1,
           "0%",
           "30%",
           "0%",
           217062.5,
           282181.25,
           65118.75,
           20493000,
           1000000,
           4950000,
           5282181.25
          ],
          [
           4,
           "0%",
           "45%",
           "0%",
           217062.5,
           314740.62,
           97678.12,
           20493000,
           1000000,
           4950000,
           5314740.62
          ],
          [
           7,
           "0%",
           "60%",
           "0%",
           217062.5,
           347300,
           130237.5,
           20493000,
           1000000,
           4950000,
           5347300
          ]
         ],
         "hovertemplate": "<b>%{hovertext}</b><br><br>Variação CTD (%)=%{customdata[1]}<br>Variação Ganho Cliente Anual (%)=%{customdata[3]}<br>Ganho Líquido Cliente (5a) (R$)=%{x}<br>Lucro Total Consultoria (5a) (R$)=%{y}<br>Cenário ID=%{customdata[0]}<br>Margem Venda Efetiva (%)=%{customdata[2]}<br>CTD Cenário (R$)=%{customdata[4]}<br>Receita Dev. Cenário (R$)=%{customdata[5]}<br>Lucro Dev. Cenário (R$)=%{customdata[6]}<br>GBAC Cenário (R$)=%{customdata[7]}<br>RBAC Cenário (R$)=%{customdata[8]}<br>Lucro Bônus Total (5a) (R$)=%{customdata[9]}<br>Gasto Cliente Total (5a) (R$)=%{customdata[10]}<extra></extra>",
         "hovertext": {
          "bdata": "AAAAAAAA8D8AAAAAAAAQQAAAAAAAABxA",
          "dtype": "f8"
         },
         "legendgroup": "0%, 0%",
         "marker": {
          "color": "#636efa",
          "symbol": "circle"
         },
         "mode": "markers",
         "name": "0%, 0%",
         "orientation": "v",
         "showlegend": true,
         "type": "scatter",
         "x": {
          "bdata": "AAAAi5Erl0G4HoXNlCmXQQAAABCYJ5dB",
          "dtype": "f8"
         },
         "xaxis": "x",
         "y": {
          "bdata": "AAAAsJMhU0F7FK6HX0FTQQAAAGArYVNB",
          "dtype": "f8"
         },
         "yaxis": "y"
        },
        {
         "customdata": [
          [
           2,
           "0%",
           "30%",
           "-20%",
           217062.5,
           282181.25,
           65118.75,
           16394400,
           819720,
           4048600,
           4380781.25
          ],
          [
           5,
           "0%",
           "45%",
           "-20%",
           217062.5,
           314740.62,
           97678.12,
           16394400,
           819720,
           4048600,
           4413340.62
          ],
          [
           8,
           "0%",
           "60%",
           "-20%",
           217062.5,
           347300,
           130237.5,
           16394400,
           819720,
           4048600,
           4445900
          ]
         ],
         "hovertemplate": "<b>%{hovertext}</b><br><br>Variação CTD (%)=%{customdata[1]}<br>Variação Ganho Cliente Anual (%)=%{customdata[3]}<br>Ganho Líquido Cliente (5a) (R$)=%{x}<br>Lucro Total Consultoria (5a) (R$)=%{y}<br>Cenário ID=%{customdata[0]}<br>Margem Venda Efetiva (%)=%{customdata[2]}<br>CTD Cenário (R$)=%{customdata[4]}<br>Receita Dev. Cenário (R$)=%{customdata[5]}<br>Lucro Dev. Cenário (R$)=%{customdata[6]}<br>GBAC Cenário (R$)=%{customdata[7]}<br>RBAC Cenário (R$)=%{customdata[8]}<br>Lucro Bônus Total (5a) (R$)=%{customdata[9]}<br>Gasto Cliente Total (5a) (R$)=%{customdata[10]}<extra></extra>",
         "hovertext": {
          "bdata": "AAAAAAAAAEAAAAAAAAAUQAAAAAAAACBA",
          "dtype": "f8"
         },
         "legendgroup": "0%, -20%",
         "marker": {
          "color": "#636efa",
          "symbol": "diamond"
         },
         "mode": "markers",
         "name": "0%, -20%",
         "orientation": "v",
         "showlegend": true,
         "type": "scatter",
         "x": {
          "bdata": "AAAAy8p/kkG4HoUNzn2SQQAAAFDRe5JB",
          "dtype": "f8"
         },
         "xaxis": "x",
         "y": {
          "bdata": "AAAAYJtiT0H2KFwPM6JPQQAAAMDK4U9B",
          "dtype": "f8"
         },
         "yaxis": "y"
        },
        {
         "customdata": [
          [
           3,
           "0%",
           "30%",
           "-50%",
           217062.5,
           282181.25,
           65118.75,
           10246500,
           512325,
           2511625,
           2843806.25
          ],
          [
           6,
           "0%",
           "45%",
           "-50%",
           217062.5,
           314740.62,
           97678.12,
           10246500,
           512325,
           2511625,
           2876365.62
          ],
          [
           9,
           "0%",
           "60%",
           "-50%",
           217062.5,
           347300,
           130237.5,
           10246500,
           512325,
           2511625,
           2908925
          ]
         ],
         "hovertemplate": "<b>%{hovertext}</b><br><br>Variação CTD (%)=%{customdata[1]}<br>Variação Ganho Cliente Anual (%)=%{customdata[3]}<br>Ganho Líquido Cliente (5a) (R$)=%{x}<br>Lucro Total Consultoria (5a) (R$)=%{y}<br>Cenário ID=%{customdata[0]}<br>Margem Venda Efetiva (%)=%{customdata[2]}<br>CTD Cenário (R$)=%{customdata[4]}<br>Receita Dev. Cenário (R$)=%{customdata[5]}<br>Lucro Dev. Cenário (R$)=%{customdata[6]}<br>GBAC Cenário (R$)=%{customdata[7]}<br>RBAC Cenário (R$)=%{customdata[8]}<br>Lucro Bônus Total (5a) (R$)=%{customdata[9]}<br>Gasto Cliente Total (5a) (R$)=%{customdata[10]}<extra></extra>",
         "hovertext": {
          "bdata": "AAAAAAAACEAAAAAAAAAYQAAAAAAAACJA",
          "dtype": "f8"
         },
         "legendgroup": "0%, -50%",
         "marker": {
          "color": "#636efa",
          "symbol": "square"
         },
         "mode": "markers",
         "name": "0%, -50%",
         "orientation": "v",
         "showlegend": true,
         "type": "scatter",
         "x": {
          "bdata": "AAAArtISh0FxPQoz2Q6HQQAAALjfCodB",
          "dtype": "f8"
         },
         "xaxis": "x",
         "y": {
          "bdata": "AAAA4LOoQ0H2KFyPS+hDQQAAAEDjJ0RB",
          "dtype": "f8"
         },
         "yaxis": "y"
        },
        {
         "customdata": [
          [
           10,
           "50%",
           "30%",
           "0%",
           325593.75,
           423271.88,
           97678.12,
           20493000,
           1000000,
           4950000,
           5423271.88
          ],
          [
           13,
           "50%",
           "45%",
           "0%",
           325593.75,
           472110.94,
           146517.19,
           20493000,
           1000000,
           4950000,
           5472110.94
          ],
          [
           16,
           "50%",
           "60%",
           "0%",
           325593.75,
           520950,
           195356.25,
           20493000,
           1000000,
           4950000,
           5520950
          ]
         ],
         "hovertemplate": "<b>%{hovertext}</b><br><br>Variação CTD (%)=%{customdata[1]}<br>Variação Ganho Cliente Anual (%)=%{customdata[3]}<br>Ganho Líquido Cliente (5a) (R$)=%{x}<br>Lucro Total Consultoria (5a) (R$)=%{y}<br>Cenário ID=%{customdata[0]}<br>Margem Venda Efetiva (%)=%{customdata[2]}<br>CTD Cenário (R$)=%{customdata[4]}<br>Receita Dev. Cenário (R$)=%{customdata[5]}<br>Lucro Dev. Cenário (R$)=%{customdata[6]}<br>GBAC Cenário (R$)=%{customdata[7]}<br>RBAC Cenário (R$)=%{customdata[8]}<br>Lucro Bônus Total (5a) (R$)=%{customdata[9]}<br>Gasto Cliente Total (5a) (R$)=%{customdata[10]}<extra></extra>",
         "hovertext": {
          "bdata": "AAAAAAAAJEAAAAAAAAAqQAAAAAAAADBA",
          "dtype": "f8"
         },
         "legendgroup": "50%, 0%",
         "marker": {
          "color": "#EF553B",
          "symbol": "circle"
         },
         "mode": "markers",
         "name": "50%, 0%",
         "orientation": "v",
         "showlegend": true,
         "type": "scatter",
         "x": {
          "bdata": "SOF6APUil0GkcD3k+R+XQQAAAMj+HJdB",
          "dtype": "f8"
         },
         "xaxis": "x",
         "y": {
          "bdata": "exSuh19BU0HD9ShMEXFTQQAAABDDoFNB",
          "dtype": "f8"
         },
         "yaxis": "y"
        },
        {
         "customdata": [
          [
           11,
           "50%",
           "30%",
           "-20%",
           325593.75,
           423271.88,
           97678.12,
           16394400,
           819720,
           4048600,
           4521871.88
          ],
          [
           14,
           "50%",
           "45%",
           "-20%",
           325593.75,
           472110.94,
           146517.19,
           16394400,
           819720,
           4048600,
           4570710.94
          ],
          [
           17,
           "50%",
           "60%",
           "-20%",
           325593.75,
           520950,
           195356.25,
           16394400,
           819720,
           4048600,
           4619550
          ]
         ],
         "hovertemplate": "<b>%{hovertext}</b><br><br>Variação CTD (%)=%{customdata[1]}<br>Variação Ganho Cliente Anual (%)=%{customdata[3]}<br>Ganho Líquido Cliente (5a) (R$)=%{x}<br>Lucro Total Consultoria (5a) (R$)=%{y}<br>Cenário ID=%{customdata[0]}<br>Margem Venda Efetiva (%)=%{customdata[2]}<br>CTD Cenário (R$)=%{customdata[4]}<br>Receita Dev. Cenário (R$)=%{customdata[5]}<br>Lucro Dev. Cenário (R$)=%{customdata[6]}<br>GBAC Cenário (R$)=%{customdata[7]}<br>RBAC Cenário (R$)=%{customdata[8]}<br>Lucro Bônus Total (5a) (R$)=%{customdata[9]}<br>Gasto Cliente Total (5a) (R$)=%{customdata[10]}<extra></extra>",
         "hovertext": {
          "bdata": "AAAAAAAAJkAAAAAAAAAsQAAAAAAAADFA",
          "dtype": "f8"
         },
         "legendgroup": "50%, -20%",
         "marker": {
          "color": "#EF553B",
          "symbol": "diamond"
         },
         "mode": "markers",
         "name": "50%, -20%",
         "orientation": "v",
         "showlegend": true,
         "type": "scatter",
         "x": {
          "bdata": "SOF6QC53kkGkcD0kM3SSQQAAAAg4cZJB",
          "dtype": "f8"
         },
         "xaxis": "x",
         "y": {
          "bdata": "9ihcDzOiT0HD9ShMywBQQQAAABB9MFBB",
          "dtype": "f8"
         },
         "yaxis": "y"
        },
        {
         "customdata": [
          [
           12,
           "50%",
           "30%",
           "-50%",
           325593.75,
           423271.88,
           97678.12,
           10246500,
           512325,
           2511625,
           2984896.88
          ],
          [
           15,
           "50%",
           "45%",
           "-50%",
           325593.75,
           472110.94,
           146517.19,
           10246500,
           512325,
           2511625,
           3033735.94
          ],
          [
           18,
           "50%",
           "60%",
           "-50%",
           325593.75,
           520950,
           195356.25,
           10246500,
           512325,
           2511625,
           3082575
          ]
         ],
         "hovertemplate": "<b>%{hovertext}</b><br><br>Variação CTD (%)=%{customdata[1]}<br>Variação Ganho Cliente Anual (%)=%{customdata[3]}<br>Ganho Líquido Cliente (5a) (R$)=%{x}<br>Lucro Total Consultoria (5a) (R$)=%{y}<br>Cenário ID=%{customdata[0]}<br>Margem Venda Efetiva (%)=%{customdata[2]}<br>CTD Cenário (R$)=%{customdata[4]}<br>Receita Dev. Cenário (R$)=%{customdata[5]}<br>Lucro Dev. Cenário (R$)=%{customdata[6]}<br>GBAC Cenário (R$)=%{customdata[7]}<br>RBAC Cenário (R$)=%{customdata[8]}<br>Lucro Bônus Total (5a) (R$)=%{customdata[9]}<br>Gasto Cliente Total (5a) (R$)=%{customdata[10]}<extra></extra>",
         "hovertext": {
          "bdata": "AAAAAAAAKEAAAAAAAAAuQAAAAAAAADJA",
          "dtype": "f8"
         },
         "legendgroup": "50%, -50%",
         "marker": {
          "color": "#EF553B",
          "symbol": "square"
         },
         "mode": "markers",
         "name": "50%, -50%",
         "orientation": "v",
         "showlegend": true,
         "type": "scatter",
         "x": {
          "bdata": "j8L1mJkBh0FI4Xpgo/uGQQAAACit9YZB",
          "dtype": "f8"
         },
         "xaxis": "x",
         "y": {
          "bdata": "9ihcj0voQ0GF61EYr0dEQQAAAKASp0RB",
          "dtype": "f8"
         },
         "yaxis": "y"
        },
        {
         "customdata": [
          [
           19,
           "100%",
           "30%",
           "0%",
           434125,
           564362.5,
           130237.5,
           20493000,
           1000000,
           4950000,
           5564362.5
          ],
          [
           22,
           "100%",
           "45%",
           "0%",
           434125,
           629481.25,
           195356.25,
           20493000,
           1000000,
           4950000,
           5629481.25
          ],
          [
           25,
           "100%",
           "60%",
           "0%",
           434125,
           694600,
           260475,
           20493000,
           1000000,
           4950000,
           5694600
          ]
         ],
         "hovertemplate": "<b>%{hovertext}</b><br><br>Variação CTD (%)=%{customdata[1]}<br>Variação Ganho Cliente Anual (%)=%{customdata[3]}<br>Ganho Líquido Cliente (5a) (R$)=%{x}<br>Lucro Total Consultoria (5a) (R$)=%{y}<br>Cenário ID=%{customdata[0]}<br>Margem Venda Efetiva (%)=%{customdata[2]}<br>CTD Cenário (R$)=%{customdata[4]}<br>Receita Dev. Cenário (R$)=%{customdata[5]}<br>Lucro Dev. Cenário (R$)=%{customdata[6]}<br>GBAC Cenário (R$)=%{customdata[7]}<br>RBAC Cenário (R$)=%{customdata[8]}<br>Lucro Bônus Total (5a) (R$)=%{customdata[9]}<br>Gasto Cliente Total (5a) (R$)=%{customdata[10]}<extra></extra>",
         "hovertext": {
          "bdata": "AAAAAAAAM0AAAAAAAAA2QAAAAAAAADlA",
          "dtype": "f8"
         },
         "legendgroup": "100%, 0%",
         "marker": {
          "color": "#00cc96",
          "symbol": "circle"
         },
         "mode": "markers",
         "name": "100%, 0%",
         "orientation": "v",
         "showlegend": true,
         "type": "scatter",
         "x": {
          "bdata": "AAAAdlgal0EAAAD7XhaXQQAAAIBlEpdB",
          "dtype": "f8"
         },
         "xaxis": "x",
         "y": {
          "bdata": "AAAAYCthU0EAAAAQw6BTQQAAAMBa4FNB",
          "dtype": "f8"
         },
         "yaxis": "y"
        },
        {
         "customdata": [
          [
           20,
           "100%",
           "30%",
           "-20%",
           434125,
           564362.5,
           130237.5,
           16394400,
           819720,
           4048600,
           4662962.5
          ],
          [
           23,
           "100%",
           "45%",
           "-20%",
           434125,
           629481.25,
           195356.25,
           16394400,
           819720,
           4048600,
           4728081.25
          ],
          [
           26,
           "100%",
           "60%",
           "-20%",
           434125,
           694600,
           260475,
           16394400,
           819720,
           4048600,
           4793200
          ]
         ],
         "hovertemplate": "<b>%{hovertext}</b><br><br>Variação CTD (%)=%{customdata[1]}<br>Variação Ganho Cliente Anual (%)=%{customdata[3]}<br>Ganho Líquido Cliente (5a) (R$)=%{x}<br>Lucro Total Consultoria (5a) (R$)=%{y}<br>Cenário ID=%{customdata[0]}<br>Margem Venda Efetiva (%)=%{customdata[2]}<br>CTD Cenário (R$)=%{customdata[4]}<br>Receita Dev. Cenário (R$)=%{customdata[5]}<br>Lucro Dev. Cenário (R$)=%{customdata[6]}<br>GBAC Cenário (R$)=%{customdata[7]}<br>RBAC Cenário (R$)=%{customdata[8]}<br>Lucro Bônus Total (5a) (R$)=%{customdata[9]}<br>Gasto Cliente Total (5a) (R$)=%{customdata[10]}<extra></extra>",
         "hovertext": {
          "bdata": "AAAAAAAANEAAAAAAAAA3QAAAAAAAADpA",
          "dtype": "f8"
         },
         "legendgroup": "100%, -20%",
         "marker": {
          "color": "#00cc96",
          "symbol": "diamond"
         },
         "mode": "markers",
         "name": "100%, -20%",
         "orientation": "v",
         "showlegend": true,
         "type": "scatter",
         "x": {
          "bdata": "AAAAtpFukkEAAAA7mGqSQQAAAMCeZpJB",
          "dtype": "f8"
         },
         "xaxis": "x",
         "y": {
          "bdata": "AAAAwMrhT0EAAAAQfTBQQQAAAMAUcFBB",
          "dtype": "f8"
         },
         "yaxis": "y"
        },
        {
         "customdata": [
          [
           21,
           "100%",
           "30%",
           "-50%",
           434125,
           564362.5,
           130237.5,
           10246500,
           512325,
           2511625,
           3125987.5
          ],
          [
           24,
           "100%",
           "45%",
           "-50%",
           434125,
           629481.25,
           195356.25,
           10246500,
           512325,
           2511625,
           3191106.25
          ],
          [
           27,
           "100%",
           "60%",
           "-50%",
           434125,
           694600,
           260475,
           10246500,
           512325,
           2511625,
           3256225
          ]
         ],
         "hovertemplate": "<b>%{hovertext}</b><br><br>Variação CTD (%)=%{customdata[1]}<br>Variação Ganho Cliente Anual (%)=%{customdata[3]}<br>Ganho Líquido Cliente (5a) (R$)=%{x}<br>Lucro Total Consultoria (5a) (R$)=%{y}<br>Cenário ID=%{customdata[0]}<br>Margem Venda Efetiva (%)=%{customdata[2]}<br>CTD Cenário (R$)=%{customdata[4]}<br>Receita Dev. Cenário (R$)=%{customdata[5]}<br>Lucro Dev. Cenário (R$)=%{customdata[6]}<br>GBAC Cenário (R$)=%{customdata[7]}<br>RBAC Cenário (R$)=%{customdata[8]}<br>Lucro Bônus Total (5a) (R$)=%{customdata[9]}<br>Gasto Cliente Total (5a) (R$)=%{customdata[10]}<extra></extra>",
         "hovertext": {
          "bdata": "AAAAAAAANUAAAAAAAAA4QAAAAAAAADtA",
          "dtype": "f8"
         },
         "legendgroup": "100%, -50%",
         "marker": {
          "color": "#00cc96",
          "symbol": "square"
         },
         "mode": "markers",
         "name": "100%, -50%",
         "orientation": "v",
         "showlegend": true,
         "type": "scatter",
         "x": {
          "bdata": "AAAAhGDwhkEAAACObeiGQQAAAJh64IZB",
          "dtype": "f8"
         },
         "xaxis": "x",
         "y": {
          "bdata": "AAAAQOMnREEAAACgEqdEQQAAAABCJkVB",
          "dtype": "f8"
         },
         "yaxis": "y"
        }
       ],
       "layout": {
        "legend": {
         "title": {
          "text": "Legenda"
         },
         "tracegroupgap": 0
        },
        "template": {
         "data": {
          "bar": [
           {
            "error_x": {
             "color": "#2a3f5f"
            },
            "error_y": {
             "color": "#2a3f5f"
            },
            "marker": {
             "line": {
              "color": "#E5ECF6",
              "width": 0.5
             },
             "pattern": {
              "fillmode": "overlay",
              "size": 10,
              "solidity": 0.2
             }
            },
            "type": "bar"
           }
          ],
          "barpolar": [
           {
            "marker": {
             "line": {
              "color": "#E5ECF6",
              "width": 0.5
             },
             "pattern": {
              "fillmode": "overlay",
              "size": 10,
              "solidity": 0.2
             }
            },
            "type": "barpolar"
           }
          ],
          "carpet": [
           {
            "aaxis": {
             "endlinecolor": "#2a3f5f",
             "gridcolor": "white",
             "linecolor": "white",
             "minorgridcolor": "white",
             "startlinecolor": "#2a3f5f"
            },
            "baxis": {
             "endlinecolor": "#2a3f5f",
             "gridcolor": "white",
             "linecolor": "white",
             "minorgridcolor": "white",
             "startlinecolor": "#2a3f5f"
            },
            "type": "carpet"
           }
          ],
          "choropleth": [
           {
            "colorbar": {
             "outlinewidth": 0,
             "ticks": ""
            },
            "type": "choropleth"
           }
          ],
          "contour": [
           {
            "colorbar": {
             "outlinewidth": 0,
             "ticks": ""
            },
            "colorscale": [
             [
              0,
              "#0d0887"
             ],
             [
              0.1111111111111111,
              "#46039f"
             ],
             [
              0.2222222222222222,
              "#7201a8"
             ],
             [
              0.3333333333333333,
              "#9c179e"
             ],
             [
              0.4444444444444444,
              "#bd3786"
             ],
             [
              0.5555555555555556,
              "#d8576b"
             ],
             [
              0.6666666666666666,
              "#ed7953"
             ],
             [
              0.7777777777777778,
              "#fb9f3a"
             ],
             [
              0.8888888888888888,
              "#fdca26"
             ],
             [
              1,
              "#f0f921"
             ]
            ],
            "type": "contour"
           }
          ],
          "contourcarpet": [
           {
            "colorbar": {
             "outlinewidth": 0,
             "ticks": ""
            },
            "type": "contourcarpet"
           }
          ],
          "heatmap": [
           {
            "colorbar": {
             "outlinewidth": 0,
             "ticks": ""
            },
            "colorscale": [
             [
              0,
              "#0d0887"
             ],
             [
              0.1111111111111111,
              "#46039f"
             ],
             [
              0.2222222222222222,
              "#7201a8"
             ],
             [
              0.3333333333333333,
              "#9c179e"
             ],
             [
              0.4444444444444444,
              "#bd3786"
             ],
             [
              0.5555555555555556,
              "#d8576b"
             ],
             [
              0.6666666666666666,
              "#ed7953"
             ],
             [
              0.7777777777777778,
              "#fb9f3a"
             ],
             [
              0.8888888888888888,
              "#fdca26"
             ],
             [
              1,
              "#f0f921"
             ]
            ],
            "type": "heatmap"
           }
          ],
          "histogram": [
           {
            "marker": {
             "pattern": {
              "fillmode": "overlay",
              "size": 10,
              "solidity": 0.2
             }
            },
            "type": "histogram"
           }
          ],
          "histogram2d": [
           {
            "colorbar": {
             "outlinewidth": 0,
             "ticks": ""
            },
            "colorscale": [
             [
              0,
              "#0d0887"
             ],
             [
              0.1111111111111111,
              "#46039f"
             ],
             [
              0.2222222222222222,
              "#7201a8"
             ],
             [
              0.3333333333333333,
              "#9c179e"
             ],
             [
              0.4444444444444444,
              "#bd3786"
             ],
             [
              0.5555555555555556,
              "#d8576b"
             ],
             [
              0.6666666666666666,
              "#ed7953"
             ],
             [
              0.7777777777777778,
              "#fb9f3a"
             ],
             [
              0.8888888888888888,
              "#fdca26"
             ],
             [
              1,
              "#f0f921"
             ]
            ],
            "type": "histogram2d"
           }
          ],
          "histogram2dcontour": [
           {
            "colorbar": {
             "outlinewidth": 0,
             "ticks": ""
            },
            "colorscale": [
             [
              0,
              "#0d0887"
             ],
             [
              0.1111111111111111,
              "#46039f"
             ],
             [
              0.2222222222222222,
              "#7201a8"
             ],
             [
              0.3333333333333333,
              "#9c179e"
             ],
             [
              0.4444444444444444,
              "#bd3786"
             ],
             [
              0.5555555555555556,
              "#d8576b"
             ],
             [
              0.6666666666666666,
              "#ed7953"
             ],
             [
              0.7777777777777778,
              "#fb9f3a"
             ],
             [
              0.8888888888888888,
              "#fdca26"
             ],
             [
              1,
              "#f0f921"
             ]
            ],
            "type": "histogram2dcontour"
           }
          ],
          "mesh3d": [
           {
            "colorbar": {
             "outlinewidth": 0,
             "ticks": ""
            },
            "type": "mesh3d"
           }
          ],
          "parcoords": [
           {
            "line": {
             "colorbar": {
              "outlinewidth": 0,
              "ticks": ""
             }
            },
            "type": "parcoords"
           }
          ],
          "pie": [
           {
            "automargin": true,
            "type": "pie"
           }
          ],
          "scatter": [
           {
            "fillpattern": {
             "fillmode": "overlay",
             "size": 10,
             "solidity": 0.2
            },
            "type": "scatter"
           }
          ],
          "scatter3d": [
           {
            "line": {
             "colorbar": {
              "outlinewidth": 0,
              "ticks": ""
             }
            },
            "marker": {
             "colorbar": {
              "outlinewidth": 0,
              "ticks": ""
             }
            },
            "type": "scatter3d"
           }
          ],
          "scattercarpet": [
           {
            "marker": {
             "colorbar": {
              "outlinewidth": 0,
              "ticks": ""
             }
            },
            "type": "scattercarpet"
           }
          ],
          "scattergeo": [
           {
            "marker": {
             "colorbar": {
              "outlinewidth": 0,
              "ticks": ""
             }
            },
            "type": "scattergeo"
           }
          ],
          "scattergl": [
           {
            "marker": {
             "colorbar": {
              "outlinewidth": 0,
              "ticks": ""
             }
            },
            "type": "scattergl"
           }
          ],
          "scattermap": [
           {
            "marker": {
             "colorbar": {
              "outlinewidth": 0,
              "ticks": ""
             }
            },
            "type": "scattermap"
           }
          ],
          "scattermapbox": [
           {
            "marker": {
             "colorbar": {
              "outlinewidth": 0,
              "ticks": ""
             }
            },
            "type": "scattermapbox"
           }
          ],
          "scatterpolar": [
           {
            "marker": {
             "colorbar": {
              "outlinewidth": 0,
              "ticks": ""
             }
            },
            "type": "scatterpolar"
           }
          ],
          "scatterpolargl": [
           {
            "marker": {
             "colorbar": {
              "outlinewidth": 0,
              "ticks": ""
             }
            },
            "type": "scatterpolargl"
           }
          ],
          "scatterternary": [
           {
            "marker": {
             "colorbar": {
              "outlinewidth": 0,
              "ticks": ""
             }
            },
            "type": "scatterternary"
           }
          ],
          "surface": [
           {
            "colorbar": {
             "outlinewidth": 0,
             "ticks": ""
            },
            "colorscale": [
             [
              0,
              "#0d0887"
             ],
             [
              0.1111111111111111,
              "#46039f"
             ],
             [
              0.2222222222222222,
              "#7201a8"
             ],
             [
              0.3333333333333333,
              "#9c179e"
             ],
             [
              0.4444444444444444,
              "#bd3786"
             ],
             [
              0.5555555555555556,
              "#d8576b"
             ],
             [
              0.6666666666666666,
              "#ed7953"
             ],
             [
              0.7777777777777778,
              "#fb9f3a"
             ],
             [
              0.8888888888888888,
              "#fdca26"
             ],
             [
              1,
              "#f0f921"
             ]
            ],
            "type": "surface"
           }
          ],
          "table": [
           {
            "cells": {
             "fill": {
              "color": "#EBF0F8"
             },
             "line": {
              "color": "white"
             }
            },
            "header": {
             "fill": {
              "color": "#C8D4E3"
             },
             "line": {
              "color": "white"
             }
            },
            "type": "table"
           }
          ]
         },
         "layout": {
          "annotationdefaults": {
           "arrowcolor": "#2a3f5f",
           "arrowhead": 0,
           "arrowwidth": 1
          },
          "autotypenumbers": "strict",
          "coloraxis": {
           "colorbar": {
            "outlinewidth": 0,
            "ticks": ""
           }
          },
          "colorscale": {
           "diverging": [
            [
             0,
             "#8e0152"
            ],
            [
             0.1,
             "#c51b7d"
            ],
            [
             0.2,
             "#de77ae"
            ],
            [
             0.3,
             "#f1b6da"
            ],
            [
             0.4,
             "#fde0ef"
            ],
            [
             0.5,
             "#f7f7f7"
            ],
            [
             0.6,
             "#e6f5d0"
            ],
            [
             0.7,
             "#b8e186"
            ],
            [
             0.8,
             "#7fbc41"
            ],
            [
             0.9,
             "#4d9221"
            ],
            [
             1,
             "#276419"
            ]
           ],
           "sequential": [
            [
             0,
             "#0d0887"
            ],
            [
             0.1111111111111111,
             "#46039f"
            ],
            [
             0.2222222222222222,
             "#7201a8"
            ],
            [
             0.3333333333333333,
             "#9c179e"
            ],
            [
             0.4444444444444444,
             "#bd3786"
            ],
            [
             0.5555555555555556,
             "#d8576b"
            ],
            [
             0.6666666666666666,
             "#ed7953"
            ],
            [
             0.7777777777777778,
             "#fb9f3a"
            ],
            [
             0.8888888888888888,
             "#fdca26"
            ],
            [
             1,
             "#f0f921"
            ]
           ],
           "sequentialminus": [
            [
             0,
             "#0d0887"
            ],
            [
             0.1111111111111111,
             "#46039f"
            ],
            [
             0.2222222222222222,
             "#7201a8"
            ],
            [
             0.3333333333333333,
             "#9c179e"
            ],
            [
             0.4444444444444444,
             "#bd3786"
            ],
            [
             0.5555555555555556,
             "#d8576b"
            ],
            [
             0.6666666666666666,
             "#ed7953"
            ],
            [
             0.7777777777777778,
             "#fb9f3a"
            ],
            [
             0.8888888888888888,
             "#fdca26"
            ],
            [
             1,
             "#f0f921"
            ]
           ]
          },
          "colorway": [
           "#636efa",
           "#EF553B",
           "#00cc96",
           "#ab63fa",
           "#FFA15A",
           "#19d3f3",
           "#FF6692",
           "#B6E880",
           "#FF97FF",
           "#FECB52"
          ],
          "font": {
           "color": "#2a3f5f"
          },
          "geo": {
           "bgcolor": "white",
           "lakecolor": "white",
           "landcolor": "#E5ECF6",
           "showlakes": true,
           "showland": true,
           "subunitcolor": "white"
          },
          "hoverlabel": {
           "align": "left"
          },
          "hovermode": "closest",
          "mapbox": {
           "style": "light"
          },
          "paper_bgcolor": "white",
          "plot_bgcolor": "#E5ECF6",
          "polar": {
           "angularaxis": {
            "gridcolor": "white",
            "linecolor": "white",
            "ticks": ""
           },
           "bgcolor": "#E5ECF6",
           "radialaxis": {
            "gridcolor": "white",
            "linecolor": "white",
            "ticks": ""
           }
          },
          "scene": {
           "xaxis": {
            "backgroundcolor": "#E5ECF6",
            "gridcolor": "white",
            "gridwidth": 2,
            "linecolor": "white",
            "showbackground": true,
            "ticks": "",
            "zerolinecolor": "white"
           },
           "yaxis": {
            "backgroundcolor": "#E5ECF6",
            "gridcolor": "white",
            "gridwidth": 2,
            "linecolor": "white",
            "showbackground": true,
            "ticks": "",
            "zerolinecolor": "white"
           },
           "zaxis": {
            "backgroundcolor": "#E5ECF6",
            "gridcolor": "white",
            "gridwidth": 2,
            "linecolor": "white",
            "showbackground": true,
            "ticks": "",
            "zerolinecolor": "white"
           }
          },
          "shapedefaults": {
           "line": {
            "color": "#2a3f5f"
           }
          },
          "ternary": {
           "aaxis": {
            "gridcolor": "white",
            "linecolor": "white",
            "ticks": ""
           },
           "baxis": {
            "gridcolor": "white",
            "linecolor": "white",
            "ticks": ""
           },
           "bgcolor": "#E5ECF6",
           "caxis": {
            "gridcolor": "white",
            "linecolor": "white",
            "ticks": ""
           }
          },
          "title": {
           "x": 0.05
          },
          "xaxis": {
           "automargin": true,
           "gridcolor": "white",
           "linecolor": "white",
           "ticks": "",
           "title": {
            "standoff": 15
           },
           "zerolinecolor": "white",
           "zerolinewidth": 2
          },
          "yaxis": {
           "automargin": true,
           "gridcolor": "white",
           "linecolor": "white",
           "ticks": "",
           "title": {
            "standoff": 15
           },
           "zerolinecolor": "white",
           "zerolinewidth": 2
          }
         }
        },
        "title": {
         "text": "Elasticidade: Lucro Consultoria vs. Ganho Líquido Cliente (5 Anos)"
        },
        "xaxis": {
         "anchor": "y",
         "domain": [
          0,
          1
         ],
         "title": {
          "text": "Ganho Líquido do Cliente (5 Anos)"
         }
        },
        "yaxis": {
         "anchor": "x",
         "domain": [
          0,
          1
         ],
         "title": {
          "text": "Lucro Total da Consultoria (5 Anos)"
         }
        }
       }
      }
     },
     "metadata": {},
     "output_type": "display_data"
    },
    {
     "data": {
      "application/vnd.plotly.v1+json": {
       "config": {
        "plotlyServerURL": "https://plot.ly"
       },
       "data": [
        {
         "customdata": {
          "bdata": "AAAAgCyLY0EAAAAAFEUfQQ==",
          "dtype": "f8",
          "shape": "1, 2"
         },
         "hovertemplate": "<b>%{hovertext}</b><br><br>Variação Ganho Cliente Anual (%)=-50%<br>Margem Venda Efetiva (%)=30%<br>Variação CTD (%)=0%<br>Cenário ID=%{x}<br>Lucro Total Consultoria (5a) (R$)=%{y}<br>GBAC Cenário (R$)=%{customdata[0]}<br>RBAC Cenário (R$)=%{customdata[1]}<extra></extra>",
         "hovertext": {
          "bdata": "AAAAAAAACEA=",
          "dtype": "f8"
         },
         "legendgroup": "-50%",
         "marker": {
          "color": "#636efa",
          "pattern": {
           "shape": ""
          }
         },
         "name": "-50%",
         "orientation": "v",
         "showlegend": true,
         "textposition": "auto",
         "type": "bar",
         "x": {
          "bdata": "Aw==",
          "dtype": "i1"
         },
         "xaxis": "x7",
         "y": {
          "bdata": "AAAA4LOoQ0E=",
          "dtype": "f8"
         },
         "yaxis": "y7"
        },
        {
         "customdata": {
          "bdata": "AAAAgCyLY0EAAAAAFEUfQQ==",
          "dtype": "f8",
          "shape": "1, 2"
         },
         "hovertemplate": "<b>%{hovertext}</b><br><br>Variação Ganho Cliente Anual (%)=-50%<br>Margem Venda Efetiva (%)=30%<br>Variação CTD (%)=50%<br>Cenário ID=%{x}<br>Lucro Total Consultoria (5a) (R$)=%{y}<br>GBAC Cenário (R$)=%{customdata[0]}<br>RBAC Cenário (R$)=%{customdata[1]}<extra></extra>",
         "hovertext": {
          "bdata": "AAAAAAAAKEA=",
          "dtype": "f8"
         },
         "legendgroup": "-50%",
         "marker": {
          "color": "#636efa",
          "pattern": {
           "shape": ""
          }
         },
         "name": "-50%",
         "orientation": "v",
         "showlegend": false,
         "textposition": "auto",
         "type": "bar",
         "x": {
          "bdata": "DA==",
          "dtype": "i1"
         },
         "xaxis": "x8",
         "y": {
          "bdata": "9ihcj0voQ0E=",
          "dtype": "f8"
         },
         "yaxis": "y8"
        },
        {
         "customdata": {
          "bdata": "AAAAgCyLY0EAAAAAFEUfQQ==",
          "dtype": "f8",
          "shape": "1, 2"
         },
         "hovertemplate": "<b>%{hovertext}</b><br><br>Variação Ganho Cliente Anual (%)=-50%<br>Margem Venda Efetiva (%)=30%<br>Variação CTD (%)=100%<br>Cenário ID=%{x}<br>Lucro Total Consultoria (5a) (R$)=%{y}<br>GBAC Cenário (R$)=%{customdata[0]}<br>RBAC Cenário (R$)=%{customdata[1]}<extra></extra>",
         "hovertext": {
          "bdata": "AAAAAAAANUA=",
          "dtype": "f8"
         },
         "legendgroup": "-50%",
         "marker": {
          "color": "#636efa",
          "pattern": {
           "shape": ""
          }
         },
         "name": "-50%",
         "orientation": "v",
         "showlegend": false,
         "textposition": "auto",
         "type": "bar",
         "x": {
          "bdata": "FQ==",
          "dtype": "i1"
         },
         "xaxis": "x9",
         "y": {
          "bdata": "AAAAQOMnREE=",
          "dtype": "f8"
         },
         "yaxis": "y9"
        },
        {
         "customdata": {
          "bdata": "AAAAgCyLY0EAAAAAFEUfQQ==",
          "dtype": "f8",
          "shape": "1, 2"
         },
         "hovertemplate": "<b>%{hovertext}</b><br><br>Variação Ganho Cliente Anual (%)=-50%<br>Margem Venda Efetiva (%)=45%<br>Variação CTD (%)=0%<br>Cenário ID=%{x}<br>Lucro Total Consultoria (5a) (R$)=%{y}<br>GBAC Cenário (R$)=%{customdata[0]}<br>RBAC Cenário (R$)=%{customdata[1]}<extra></extra>",
         "hovertext": {
          "bdata": "AAAAAAAAGEA=",
          "dtype": "f8"
         },
         "legendgroup": "-50%",
         "marker": {
          "color": "#636efa",
          "pattern": {
           "shape": ""
          }
         },
         "name": "-50%",
         "orientation": "v",
         "showlegend": false,
         "textposition": "auto",
         "type": "bar",
         "x": {
          "bdata": "Bg==",
          "dtype": "i1"
         },
         "xaxis": "x4",
         "y": {
          "bdata": "9ihcj0voQ0E=",
          "dtype": "f8"
         },
         "yaxis": "y4"
        },
        {
         "customdata": {
          "bdata": "AAAAgCyLY0EAAAAAFEUfQQ==",
          "dtype": "f8",
          "shape": "1, 2"
         },
         "hovertemplate": "<b>%{hovertext}</b><br><br>Variação Ganho Cliente Anual (%)=-50%<br>Margem Venda Efetiva (%)=45%<br>Variação CTD (%)=50%<br>Cenário ID=%{x}<br>Lucro Total Consultoria (5a) (R$)=%{y}<br>GBAC Cenário (R$)=%{customdata[0]}<br>RBAC Cenário (R$)=%{customdata[1]}<extra></extra>",
         "hovertext": {
          "bdata": "AAAAAAAALkA=",
          "dtype": "f8"
         },
         "legendgroup": "-50%",
         "marker": {
          "color": "#636efa",
          "pattern": {
           "shape": ""
          }
         },
         "name": "-50%",
         "orientation": "v",
         "showlegend": false,
         "textposition": "auto",
         "type": "bar",
         "x": {
          "bdata": "Dw==",
          "dtype": "i1"
         },
         "xaxis": "x5",
         "y": {
          "bdata": "hetRGK9HREE=",
          "dtype": "f8"
         },
         "yaxis": "y5"
        },
        {
         "customdata": {
          "bdata": "AAAAgCyLY0EAAAAAFEUfQQ==",
          "dtype": "f8",
          "shape": "1, 2"
         },
         "hovertemplate": "<b>%{hovertext}</b><br><br>Variação Ganho Cliente Anual (%)=-50%<br>Margem Venda Efetiva (%)=45%<br>Variação CTD (%)=100%<br>Cenário ID=%{x}<br>Lucro Total Consultoria (5a) (R$)=%{y}<br>GBAC Cenário (R$)=%{customdata[0]}<br>RBAC Cenário (R$)=%{customdata[1]}<extra></extra>",
         "hovertext": {
          "bdata": "AAAAAAAAOEA=",
          "dtype": "f8"
         },
         "legendgroup": "-50%",
         "marker": {
          "color": "#636efa",
          "pattern": {
           "shape": ""
          }
         },
         "name": "-50%",
         "orientation": "v",
         "showlegend": false,
         "textposition": "auto",
         "type": "bar",
         "x": {
          "bdata": "GA==",
          "dtype": "i1"
         },
         "xaxis": "x6",
         "y": {
          "bdata": "AAAAoBKnREE=",
          "dtype": "f8"
         },
         "yaxis": "y6"
        },
        {
         "customdata": {
          "bdata": "AAAAgCyLY0EAAAAAFEUfQQ==",
          "dtype": "f8",
          "shape": "1, 2"
         },
         "hovertemplate": "<b>%{hovertext}</b><br><br>Variação Ganho Cliente Anual (%)=-50%<br>Margem Venda Efetiva (%)=60%<br>Variação CTD (%)=0%<br>Cenário ID=%{x}<br>Lucro Total Consultoria (5a) (R$)=%{y}<br>GBAC Cenário (R$)=%{customdata[0]}<br>RBAC Cenário (R$)=%{customdata[1]}<extra></extra>",
         "hovertext": {
          "bdata": "AAAAAAAAIkA=",
          "dtype": "f8"
         },
         "legendgroup": "-50%",
         "marker": {
          "color": "#636efa",
          "pattern": {
           "shape": ""
          }
         },
         "name": "-50%",
         "orientation": "v",
         "showlegend": false,
         "textposition": "auto",
         "type": "bar",
         "x": {
          "bdata": "CQ==",
          "dtype": "i1"
         },
         "xaxis": "x",
         "y": {
          "bdata": "AAAAQOMnREE=",
          "dtype": "f8"
         },
         "yaxis": "y"
        },
        {
         "customdata": {
          "bdata": "AAAAgCyLY0EAAAAAFEUfQQ==",
          "dtype": "f8",
          "shape": "1, 2"
         },
         "hovertemplate": "<b>%{hovertext}</b><br><br>Variação Ganho Cliente Anual (%)=-50%<br>Margem Venda Efetiva (%)=60%<br>Variação CTD (%)=50%<br>Cenário ID=%{x}<br>Lucro Total Consultoria (5a) (R$)=%{y}<br>GBAC Cenário (R$)=%{customdata[0]}<br>RBAC Cenário (R$)=%{customdata[1]}<extra></extra>",
         "hovertext": {
          "bdata": "AAAAAAAAMkA=",
          "dtype": "f8"
         },
         "legendgroup": "-50%",
         "marker": {
          "color": "#636efa",
          "pattern": {
           "shape": ""
          }
         },
         "name": "-50%",
         "orientation": "v",
         "showlegend": false,
         "textposition": "auto",
         "type": "bar",
         "x": {
          "bdata": "Eg==",
          "dtype": "i1"
         },
         "xaxis": "x2",
         "y": {
          "bdata": "AAAAoBKnREE=",
          "dtype": "f8"
         },
         "yaxis": "y2"
        },
        {
         "customdata": {
          "bdata": "AAAAgCyLY0EAAAAAFEUfQQ==",
          "dtype": "f8",
          "shape": "1, 2"
         },
         "hovertemplate": "<b>%{hovertext}</b><br><br>Variação Ganho Cliente Anual (%)=-50%<br>Margem Venda Efetiva (%)=60%<br>Variação CTD (%)=100%<br>Cenário ID=%{x}<br>Lucro Total Consultoria (5a) (R$)=%{y}<br>GBAC Cenário (R$)=%{customdata[0]}<br>RBAC Cenário (R$)=%{customdata[1]}<extra></extra>",
         "hovertext": {
          "bdata": "AAAAAAAAO0A=",
          "dtype": "f8"
         },
         "legendgroup": "-50%",
         "marker": {
          "color": "#636efa",
          "pattern": {
           "shape": ""
          }
         },
         "name": "-50%",
         "orientation": "v",
         "showlegend": false,
         "textposition": "auto",
         "type": "bar",
         "x": {
          "bdata": "Gw==",
          "dtype": "i1"
         },
         "xaxis": "x3",
         "y": {
          "bdata": "AAAAAEImRUE=",
          "dtype": "f8"
         },
         "yaxis": "y3"
        },
        {
         "customdata": {
          "bdata": "AAAAABRFb0EAAAAAEAQpQQ==",
          "dtype": "f8",
          "shape": "1, 2"
         },
         "hovertemplate": "<b>%{hovertext}</b><br><br>Variação Ganho Cliente Anual (%)=-20%<br>Margem Venda Efetiva (%)=30%<br>Variação CTD (%)=0%<br>Cenário ID=%{x}<br>Lucro Total Consultoria (5a) (R$)=%{y}<br>GBAC Cenário (R$)=%{customdata[0]}<br>RBAC Cenário (R$)=%{customdata[1]}<extra></extra>",
         "hovertext": {
          "bdata": "AAAAAAAAAEA=",
          "dtype": "f8"
         },
         "legendgroup": "-20%",
         "marker": {
          "color": "#EF553B",
          "pattern": {
           "shape": ""
          }
         },
         "name": "-20%",
         "orientation": "v",
         "showlegend": true,
         "textposition": "auto",
         "type": "bar",
         "x": {
          "bdata": "Ag==",
          "dtype": "i1"
         },
         "xaxis": "x7",
         "y": {
          "bdata": "AAAAYJtiT0E=",
          "dtype": "f8"
         },
         "yaxis": "y7"
        },
        {
         "customdata": {
          "bdata": "AAAAABRFb0EAAAAAEAQpQQ==",
          "dtype": "f8",
          "shape": "1, 2"
         },
         "hovertemplate": "<b>%{hovertext}</b><br><br>Variação Ganho Cliente Anual (%)=-20%<br>Margem Venda Efetiva (%)=30%<br>Variação CTD (%)=50%<br>Cenário ID=%{x}<br>Lucro Total Consultoria (5a) (R$)=%{y}<br>GBAC Cenário (R$)=%{customdata[0]}<br>RBAC Cenário (R$)=%{customdata[1]}<extra></extra>",
         "hovertext": {
          "bdata": "AAAAAAAAJkA=",
          "dtype": "f8"
         },
         "legendgroup": "-20%",
         "marker": {
          "color": "#EF553B",
          "pattern": {
           "shape": ""
          }
         },
         "name": "-20%",
         "orientation": "v",
         "showlegend": false,
         "textposition": "auto",
         "type": "bar",
         "x": {
          "bdata": "Cw==",
          "dtype": "i1"
         },
         "xaxis": "x8",
         "y": {
          "bdata": "9ihcDzOiT0E=",
          "dtype": "f8"
         },
         "yaxis": "y8"
        },
        {
         "customdata": {
          "bdata": "AAAAABRFb0EAAAAAEAQpQQ==",
          "dtype": "f8",
          "shape": "1, 2"
         },
         "hovertemplate": "<b>%{hovertext}</b><br><br>Variação Ganho Cliente Anual (%)=-20%<br>Margem Venda Efetiva (%)=30%<br>Variação CTD (%)=100%<br>Cenário ID=%{x}<br>Lucro Total Consultoria (5a) (R$)=%{y}<br>GBAC Cenário (R$)=%{customdata[0]}<br>RBAC Cenário (R$)=%{customdata[1]}<extra></extra>",
         "hovertext": {
          "bdata": "AAAAAAAANEA=",
          "dtype": "f8"
         },
         "legendgroup": "-20%",
         "marker": {
          "color": "#EF553B",
          "pattern": {
           "shape": ""
          }
         },
         "name": "-20%",
         "orientation": "v",
         "showlegend": false,
         "textposition": "auto",
         "type": "bar",
         "x": {
          "bdata": "FA==",
          "dtype": "i1"
         },
         "xaxis": "x9",
         "y": {
          "bdata": "AAAAwMrhT0E=",
          "dtype": "f8"
         },
         "yaxis": "y9"
        },
        {
         "customdata": {
          "bdata": "AAAAABRFb0EAAAAAEAQpQQ==",
          "dtype": "f8",
          "shape": "1, 2"
         },
         "hovertemplate": "<b>%{hovertext}</b><br><br>Variação Ganho Cliente Anual (%)=-20%<br>Margem Venda Efetiva (%)=45%<br>Variação CTD (%)=0%<br>Cenário ID=%{x}<br>Lucro Total Consultoria (5a) (R$)=%{y}<br>GBAC Cenário (R$)=%{customdata[0]}<br>RBAC Cenário (R$)=%{customdata[1]}<extra></extra>",
         "hovertext": {
          "bdata": "AAAAAAAAFEA=",
          "dtype": "f8"
         },
         "legendgroup": "-20%",
         "marker": {
          "color": "#EF553B",
          "pattern": {
           "shape": ""
          }
         },
         "name": "-20%",
         "orientation": "v",
         "showlegend": false,
         "textposition": "auto",
         "type": "bar",
         "x": {
          "bdata": "BQ==",
          "dtype": "i1"
         },
         "xaxis": "x4",
         "y": {
          "bdata": "9ihcDzOiT0E=",
          "dtype": "f8"
         },
         "yaxis": "y4"
        },
        {
         "customdata": {
          "bdata": "AAAAABRFb0EAAAAAEAQpQQ==",
          "dtype": "f8",
          "shape": "1, 2"
         },
         "hovertemplate": "<b>%{hovertext}</b><br><br>Variação Ganho Cliente Anual (%)=-20%<br>Margem Venda Efetiva (%)=45%<br>Variação CTD (%)=50%<br>Cenário ID=%{x}<br>Lucro Total Consultoria (5a) (R$)=%{y}<br>GBAC Cenário (R$)=%{customdata[0]}<br>RBAC Cenário (R$)=%{customdata[1]}<extra></extra>",
         "hovertext": {
          "bdata": "AAAAAAAALEA=",
          "dtype": "f8"
         },
         "legendgroup": "-20%",
         "marker": {
          "color": "#EF553B",
          "pattern": {
           "shape": ""
          }
         },
         "name": "-20%",
         "orientation": "v",
         "showlegend": false,
         "textposition": "auto",
         "type": "bar",
         "x": {
          "bdata": "Dg==",
          "dtype": "i1"
         },
         "xaxis": "x5",
         "y": {
          "bdata": "w/UoTMsAUEE=",
          "dtype": "f8"
         },
         "yaxis": "y5"
        },
        {
         "customdata": {
          "bdata": "AAAAABRFb0EAAAAAEAQpQQ==",
          "dtype": "f8",
          "shape": "1, 2"
         },
         "hovertemplate": "<b>%{hovertext}</b><br><br>Variação Ganho Cliente Anual (%)=-20%<br>Margem Venda Efetiva (%)=45%<br>Variação CTD (%)=100%<br>Cenário ID=%{x}<br>Lucro Total Consultoria (5a) (R$)=%{y}<br>GBAC Cenário (R$)=%{customdata[0]}<br>RBAC Cenário (R$)=%{customdata[1]}<extra></extra>",
         "hovertext": {
          "bdata": "AAAAAAAAN0A=",
          "dtype": "f8"
         },
         "legendgroup": "-20%",
         "marker": {
          "color": "#EF553B",
          "pattern": {
           "shape": ""
          }
         },
         "name": "-20%",
         "orientation": "v",
         "showlegend": false,
         "textposition": "auto",
         "type": "bar",
         "x": {
          "bdata": "Fw==",
          "dtype": "i1"
         },
         "xaxis": "x6",
         "y": {
          "bdata": "AAAAEH0wUEE=",
          "dtype": "f8"
         },
         "yaxis": "y6"
        },
        {
         "customdata": {
          "bdata": "AAAAABRFb0EAAAAAEAQpQQ==",
          "dtype": "f8",
          "shape": "1, 2"
         },
         "hovertemplate": "<b>%{hovertext}</b><br><br>Variação Ganho Cliente Anual (%)=-20%<br>Margem Venda Efetiva (%)=60%<br>Variação CTD (%)=0%<br>Cenário ID=%{x}<br>Lucro Total Consultoria (5a) (R$)=%{y}<br>GBAC Cenário (R$)=%{customdata[0]}<br>RBAC Cenário (R$)=%{customdata[1]}<extra></extra>",
         "hovertext": {
          "bdata": "AAAAAAAAIEA=",
          "dtype": "f8"
         },
         "legendgroup": "-20%",
         "marker": {
          "color": "#EF553B",
          "pattern": {
           "shape": ""
          }
         },
         "name": "-20%",
         "orientation": "v",
         "showlegend": false,
         "textposition": "auto",
         "type": "bar",
         "x": {
          "bdata": "CA==",
          "dtype": "i1"
         },
         "xaxis": "x",
         "y": {
          "bdata": "AAAAwMrhT0E=",
          "dtype": "f8"
         },
         "yaxis": "y"
        },
        {
         "customdata": {
          "bdata": "AAAAABRFb0EAAAAAEAQpQQ==",
          "dtype": "f8",
          "shape": "1, 2"
         },
         "hovertemplate": "<b>%{hovertext}</b><br><br>Variação Ganho Cliente Anual (%)=-20%<br>Margem Venda Efetiva (%)=60%<br>Variação CTD (%)=50%<br>Cenário ID=%{x}<br>Lucro Total Consultoria (5a) (R$)=%{y}<br>GBAC Cenário (R$)=%{customdata[0]}<br>RBAC Cenário (R$)=%{customdata[1]}<extra></extra>",
         "hovertext": {
          "bdata": "AAAAAAAAMUA=",
          "dtype": "f8"
         },
         "legendgroup": "-20%",
         "marker": {
          "color": "#EF553B",
          "pattern": {
           "shape": ""
          }
         },
         "name": "-20%",
         "orientation": "v",
         "showlegend": false,
         "textposition": "auto",
         "type": "bar",
         "x": {
          "bdata": "EQ==",
          "dtype": "i1"
         },
         "xaxis": "x2",
         "y": {
          "bdata": "AAAAEH0wUEE=",
          "dtype": "f8"
         },
         "yaxis": "y2"
        },
        {
         "customdata": {
          "bdata": "AAAAABRFb0EAAAAAEAQpQQ==",
          "dtype": "f8",
          "shape": "1, 2"
         },
         "hovertemplate": "<b>%{hovertext}</b><br><br>Variação Ganho Cliente Anual (%)=-20%<br>Margem Venda Efetiva (%)=60%<br>Variação CTD (%)=100%<br>Cenário ID=%{x}<br>Lucro Total Consultoria (5a) (R$)=%{y}<br>GBAC Cenário (R$)=%{customdata[0]}<br>RBAC Cenário (R$)=%{customdata[1]}<extra></extra>",
         "hovertext": {
          "bdata": "AAAAAAAAOkA=",
          "dtype": "f8"
         },
         "legendgroup": "-20%",
         "marker": {
          "color": "#EF553B",
          "pattern": {
           "shape": ""
          }
         },
         "name": "-20%",
         "orientation": "v",
         "showlegend": false,
         "textposition": "auto",
         "type": "bar",
         "x": {
          "bdata": "Gg==",
          "dtype": "i1"
         },
         "xaxis": "x3",
         "y": {
          "bdata": "AAAAwBRwUEE=",
          "dtype": "f8"
         },
         "yaxis": "y3"
        },
        {
         "customdata": {
          "bdata": "AAAAgCyLc0EAAAAAgIQuQQ==",
          "dtype": "f8",
          "shape": "1, 2"
         },
         "hovertemplate": "<b>%{hovertext}</b><br><br>Variação Ganho Cliente Anual (%)=0%<br>Margem Venda Efetiva (%)=30%<br>Variação CTD (%)=0%<br>Cenário ID=%{x}<br>Lucro Total Consultoria (5a) (R$)=%{y}<br>GBAC Cenário (R$)=%{customdata[0]}<br>RBAC Cenário (R$)=%{customdata[1]}<extra></extra>",
         "hovertext": {
          "bdata": "AAAAAAAA8D8=",
          "dtype": "f8"
         },
         "legendgroup": "0%",
         "marker": {
          "color": "#00cc96",
          "pattern": {
           "shape": ""
          }
         },
         "name": "0%",
         "orientation": "v",
         "showlegend": true,
         "textposition": "auto",
         "type": "bar",
         "x": {
          "bdata": "AQ==",
          "dtype": "i1"
         },
         "xaxis": "x7",
         "y": {
          "bdata": "AAAAsJMhU0E=",
          "dtype": "f8"
         },
         "yaxis": "y7"
        },
        {
         "customdata": {
          "bdata": "AAAAgCyLc0EAAAAAgIQuQQ==",
          "dtype": "f8",
          "shape": "1, 2"
         },
         "hovertemplate": "<b>%{hovertext}</b><br><br>Variação Ganho Cliente Anual (%)=0%<br>Margem Venda Efetiva (%)=30%<br>Variação CTD (%)=50%<br>Cenário ID=%{x}<br>Lucro Total Consultoria (5a) (R$)=%{y}<br>GBAC Cenário (R$)=%{customdata[0]}<br>RBAC Cenário (R$)=%{customdata[1]}<extra></extra>",
         "hovertext": {
          "bdata": "AAAAAAAAJEA=",
          "dtype": "f8"
         },
         "legendgroup": "0%",
         "marker": {
          "color": "#00cc96",
          "pattern": {
           "shape": ""
          }
         },
         "name": "0%",
         "orientation": "v",
         "showlegend": false,
         "textposition": "auto",
         "type": "bar",
         "x": {
          "bdata": "Cg==",
          "dtype": "i1"
         },
         "xaxis": "x8",
         "y": {
          "bdata": "exSuh19BU0E=",
          "dtype": "f8"
         },
         "yaxis": "y8"
        },
        {
         "customdata": {
          "bdata": "AAAAgCyLc0EAAAAAgIQuQQ==",
          "dtype": "f8",
          "shape": "1, 2"
         },
         "hovertemplate": "<b>%{hovertext}</b><br><br>Variação Ganho Cliente Anual (%)=0%<br>Margem Venda Efetiva (%)=30%<br>Variação CTD (%)=100%<br>Cenário ID=%{x}<br>Lucro Total Consultoria (5a) (R$)=%{y}<br>GBAC Cenário (R$)=%{customdata[0]}<br>RBAC Cenário (R$)=%{customdata[1]}<extra></extra>",
         "hovertext": {
          "bdata": "AAAAAAAAM0A=",
          "dtype": "f8"
         },
         "legendgroup": "0%",
         "marker": {
          "color": "#00cc96",
          "pattern": {
           "shape": ""
          }
         },
         "name": "0%",
         "orientation": "v",
         "showlegend": false,
         "textposition": "auto",
         "type": "bar",
         "x": {
          "bdata": "Ew==",
          "dtype": "i1"
         },
         "xaxis": "x9",
         "y": {
          "bdata": "AAAAYCthU0E=",
          "dtype": "f8"
         },
         "yaxis": "y9"
        },
        {
         "customdata": {
          "bdata": "AAAAgCyLc0EAAAAAgIQuQQ==",
          "dtype": "f8",
          "shape": "1, 2"
         },
         "hovertemplate": "<b>%{hovertext}</b><br><br>Variação Ganho Cliente Anual (%)=0%<br>Margem Venda Efetiva (%)=45%<br>Variação CTD (%)=0%<br>Cenário ID=%{x}<br>Lucro Total Consultoria (5a) (R$)=%{y}<br>GBAC Cenário (R$)=%{customdata[0]}<br>RBAC Cenário (R$)=%{customdata[1]}<extra></extra>",
         "hovertext": {
          "bdata": "AAAAAAAAEEA=",
          "dtype": "f8"
         },
         "legendgroup": "0%",
         "marker": {
          "color": "#00cc96",
          "pattern": {
           "shape": ""
          }
         },
         "name": "0%",
         "orientation": "v",
         "showlegend": false,
         "textposition": "auto",
         "type": "bar",
         "x": {
          "bdata": "BA==",
          "dtype": "i1"
         },
         "xaxis": "x4",
         "y": {
          "bdata": "exSuh19BU0E=",
          "dtype": "f8"
         },
         "yaxis": "y4"
        },
        {
         "customdata": {
          "bdata": "AAAAgCyLc0EAAAAAgIQuQQ==",
          "dtype": "f8",
          "shape": "1, 2"
         },
         "hovertemplate": "<b>%{hovertext}</b><br><br>Variação Ganho Cliente Anual (%)=0%<br>Margem Venda Efetiva (%)=45%<br>Variação CTD (%)=50%<br>Cenário ID=%{x}<br>Lucro Total Consultoria (5a) (R$)=%{y}<br>GBAC Cenário (R$)=%{customdata[0]}<br>RBAC Cenário (R$)=%{customdata[1]}<extra></extra>",
         "hovertext": {
          "bdata": "AAAAAAAAKkA=",
          "dtype": "f8"
         },
         "legendgroup": "0%",
         "marker": {
          "color": "#00cc96",
          "pattern": {
           "shape": ""
          }
         },
         "name": "0%",
         "orientation": "v",
         "showlegend": false,
         "textposition": "auto",
         "type": "bar",
         "x": {
          "bdata": "DQ==",
          "dtype": "i1"
         },
         "xaxis": "x5",
         "y": {
          "bdata": "w/UoTBFxU0E=",
          "dtype": "f8"
         },
         "yaxis": "y5"
        },
        {
         "customdata": {
          "bdata": "AAAAgCyLc0EAAAAAgIQuQQ==",
          "dtype": "f8",
          "shape": "1, 2"
         },
         "hovertemplate": "<b>%{hovertext}</b><br><br>Variação Ganho Cliente Anual (%)=0%<br>Margem Venda Efetiva (%)=45%<br>Variação CTD (%)=100%<br>Cenário ID=%{x}<br>Lucro Total Consultoria (5a) (R$)=%{y}<br>GBAC Cenário (R$)=%{customdata[0]}<br>RBAC Cenário (R$)=%{customdata[1]}<extra></extra>",
         "hovertext": {
          "bdata": "AAAAAAAANkA=",
          "dtype": "f8"
         },
         "legendgroup": "0%",
         "marker": {
          "color": "#00cc96",
          "pattern": {
           "shape": ""
          }
         },
         "name": "0%",
         "orientation": "v",
         "showlegend": false,
         "textposition": "auto",
         "type": "bar",
         "x": {
          "bdata": "Fg==",
          "dtype": "i1"
         },
         "xaxis": "x6",
         "y": {
          "bdata": "AAAAEMOgU0E=",
          "dtype": "f8"
         },
         "yaxis": "y6"
        },
        {
         "customdata": {
          "bdata": "AAAAgCyLc0EAAAAAgIQuQQ==",
          "dtype": "f8",
          "shape": "1, 2"
         },
         "hovertemplate": "<b>%{hovertext}</b><br><br>Variação Ganho Cliente Anual (%)=0%<br>Margem Venda Efetiva (%)=60%<br>Variação CTD (%)=0%<br>Cenário ID=%{x}<br>Lucro Total Consultoria (5a) (R$)=%{y}<br>GBAC Cenário (R$)=%{customdata[0]}<br>RBAC Cenário (R$)=%{customdata[1]}<extra></extra>",
         "hovertext": {
          "bdata": "AAAAAAAAHEA=",
          "dtype": "f8"
         },
         "legendgroup": "0%",
         "marker": {
          "color": "#00cc96",
          "pattern": {
           "shape": ""
          }
         },
         "name": "0%",
         "orientation": "v",
         "showlegend": false,
         "textposition": "auto",
         "type": "bar",
         "x": {
          "bdata": "Bw==",
          "dtype": "i1"
         },
         "xaxis": "x",
         "y": {
          "bdata": "AAAAYCthU0E=",
          "dtype": "f8"
         },
         "yaxis": "y"
        },
        {
         "customdata": {
          "bdata": "AAAAgCyLc0EAAAAAgIQuQQ==",
          "dtype": "f8",
          "shape": "1, 2"
         },
         "hovertemplate": "<b>%{hovertext}</b><br><br>Variação Ganho Cliente Anual (%)=0%<br>Margem Venda Efetiva (%)=60%<br>Variação CTD (%)=50%<br>Cenário ID=%{x}<br>Lucro Total Consultoria (5a) (R$)=%{y}<br>GBAC Cenário (R$)=%{customdata[0]}<br>RBAC Cenário (R$)=%{customdata[1]}<extra></extra>",
         "hovertext": {
          "bdata": "AAAAAAAAMEA=",
          "dtype": "f8"
         },
         "legendgroup": "0%",
         "marker": {
          "color": "#00cc96",
          "pattern": {
           "shape": ""
          }
         },
         "name": "0%",
         "orientation": "v",
         "showlegend": false,
         "textposition": "auto",
         "type": "bar",
         "x": {
          "bdata": "EA==",
          "dtype": "i1"
         },
         "xaxis": "x2",
         "y": {
          "bdata": "AAAAEMOgU0E=",
          "dtype": "f8"
         },
         "yaxis": "y2"
        },
        {
         "customdata": {
          "bdata": "AAAAgCyLc0EAAAAAgIQuQQ==",
          "dtype": "f8",
          "shape": "1, 2"
         },
         "hovertemplate": "<b>%{hovertext}</b><br><br>Variação Ganho Cliente Anual (%)=0%<br>Margem Venda Efetiva (%)=60%<br>Variação CTD (%)=100%<br>Cenário ID=%{x}<br>Lucro Total Consultoria (5a) (R$)=%{y}<br>GBAC Cenário (R$)=%{customdata[0]}<br>RBAC Cenário (R$)=%{customdata[1]}<extra></extra>",
         "hovertext": {
          "bdata": "AAAAAAAAOUA=",
          "dtype": "f8"
         },
         "legendgroup": "0%",
         "marker": {
          "color": "#00cc96",
          "pattern": {
           "shape": ""
          }
         },
         "name": "0%",
         "orientation": "v",
         "showlegend": false,
         "textposition": "auto",
         "type": "bar",
         "x": {
          "bdata": "GQ==",
          "dtype": "i1"
         },
         "xaxis": "x3",
         "y": {
          "bdata": "AAAAwFrgU0E=",
          "dtype": "f8"
         },
         "yaxis": "y3"
        }
       ],
       "layout": {
        "annotations": [
         {
          "font": {},
          "showarrow": false,
          "text": "Variação CTD (%)=0%",
          "x": 0.15666666666666665,
          "xanchor": "center",
          "xref": "paper",
          "y": 0.9999999999999998,
          "yanchor": "bottom",
          "yref": "paper"
         },
         {
          "font": {},
          "showarrow": false,
          "text": "Variação CTD (%)=50%",
          "x": 0.49,
          "xanchor": "center",
          "xref": "paper",
          "y": 0.9999999999999998,
          "yanchor": "bottom",
          "yref": "paper"
         },
         {
          "font": {},
          "showarrow": false,
          "text": "Variação CTD (%)=100%",
          "x": 0.8233333333333333,
          "xanchor": "center",
          "xref": "paper",
          "y": 0.9999999999999998,
          "yanchor": "bottom",
          "yref": "paper"
         },
         {
          "font": {},
          "showarrow": false,
          "text": "Margem Venda Efetiva (%)=60%",
          "textangle": 90,
          "x": 0.98,
          "xanchor": "left",
          "xref": "paper",
          "y": 0.15666666666666665,
          "yanchor": "middle",
          "yref": "paper"
         },
         {
          "font": {},
          "showarrow": false,
          "text": "Margem Venda Efetiva (%)=45%",
          "textangle": 90,
          "x": 0.98,
          "xanchor": "left",
          "xref": "paper",
          "y": 0.4999999999999999,
          "yanchor": "middle",
          "yref": "paper"
         },
         {
          "font": {},
          "showarrow": false,
          "text": "Margem Venda Efetiva (%)=30%",
          "textangle": 90,
          "x": 0.98,
          "xanchor": "left",
          "xref": "paper",
          "y": 0.8433333333333332,
          "yanchor": "middle",
          "yref": "paper"
         }
        ],
        "barmode": "relative",
        "legend": {
         "title": {
          "text": "Variação Ganho Cliente Anual (%)"
         },
         "tracegroupgap": 0
        },
        "template": {
         "data": {
          "bar": [
           {
            "error_x": {
             "color": "#2a3f5f"
            },
            "error_y": {
             "color": "#2a3f5f"
            },
            "marker": {
             "line": {
              "color": "#E5ECF6",
              "width": 0.5
             },
             "pattern": {
              "fillmode": "overlay",
              "size": 10,
              "solidity": 0.2
             }
            },
            "type": "bar"
           }
          ],
          "barpolar": [
           {
            "marker": {
             "line": {
              "color": "#E5ECF6",
              "width": 0.5
             },
             "pattern": {
              "fillmode": "overlay",
              "size": 10,
              "solidity": 0.2
             }
            },
            "type": "barpolar"
           }
          ],
          "carpet": [
           {
            "aaxis": {
             "endlinecolor": "#2a3f5f",
             "gridcolor": "white",
             "linecolor": "white",
             "minorgridcolor": "white",
             "startlinecolor": "#2a3f5f"
            },
            "baxis": {
             "endlinecolor": "#2a3f5f",
             "gridcolor": "white",
             "linecolor": "white",
             "minorgridcolor": "white",
             "startlinecolor": "#2a3f5f"
            },
            "type": "carpet"
           }
          ],
          "choropleth": [
           {
            "colorbar": {
             "outlinewidth": 0,
             "ticks": ""
            },
            "type": "choropleth"
           }
          ],
          "contour": [
           {
            "colorbar": {
             "outlinewidth": 0,
             "ticks": ""
            },
            "colorscale": [
             [
              0,
              "#0d0887"
             ],
             [
              0.1111111111111111,
              "#46039f"
             ],
             [
              0.2222222222222222,
              "#7201a8"
             ],
             [
              0.3333333333333333,
              "#9c179e"
             ],
             [
              0.4444444444444444,
              "#bd3786"
             ],
             [
              0.5555555555555556,
              "#d8576b"
             ],
             [
              0.6666666666666666,
              "#ed7953"
             ],
             [
              0.7777777777777778,
              "#fb9f3a"
             ],
             [
              0.8888888888888888,
              "#fdca26"
             ],
             [
              1,
              "#f0f921"
             ]
            ],
            "type": "contour"
           }
          ],
          "contourcarpet": [
           {
            "colorbar": {
             "outlinewidth": 0,
             "ticks": ""
            },
            "type": "contourcarpet"
           }
          ],
          "heatmap": [
           {
            "colorbar": {
             "outlinewidth": 0,
             "ticks": ""
            },
            "colorscale": [
             [
              0,
              "#0d0887"
             ],
             [
              0.1111111111111111,
              "#46039f"
             ],
             [
              0.2222222222222222,
              "#7201a8"
             ],
             [
              0.3333333333333333,
              "#9c179e"
             ],
             [
              0.4444444444444444,
              "#bd3786"
             ],
             [
              0.5555555555555556,
              "#d8576b"
             ],
             [
              0.6666666666666666,
              "#ed7953"
             ],
             [
              0.7777777777777778,
              "#fb9f3a"
             ],
             [
              0.8888888888888888,
              "#fdca26"
             ],
             [
              1,
              "#f0f921"
             ]
            ],
            "type": "heatmap"
           }
          ],
          "histogram": [
           {
            "marker": {
             "pattern": {
              "fillmode": "overlay",
              "size": 10,
              "solidity": 0.2
             }
            },
            "type": "histogram"
           }
          ],
          "histogram2d": [
           {
            "colorbar": {
             "outlinewidth": 0,
             "ticks": ""
            },
            "colorscale": [
             [
              0,
              "#0d0887"
             ],
             [
              0.1111111111111111,
              "#46039f"
             ],
             [
              0.2222222222222222,
              "#7201a8"
             ],
             [
              0.3333333333333333,
              "#9c179e"
             ],
             [
              0.4444444444444444,
              "#bd3786"
             ],
             [
              0.5555555555555556,
              "#d8576b"
             ],
             [
              0.6666666666666666,
              "#ed7953"
             ],
             [
              0.7777777777777778,
              "#fb9f3a"
             ],
             [
              0.8888888888888888,
              "#fdca26"
             ],
             [
              1,
              "#f0f921"
             ]
            ],
            "type": "histogram2d"
           }
          ],
          "histogram2dcontour": [
           {
            "colorbar": {
             "outlinewidth": 0,
             "ticks": ""
            },
            "colorscale": [
             [
              0,
              "#0d0887"
             ],
             [
              0.1111111111111111,
              "#46039f"
             ],
             [
              0.2222222222222222,
              "#7201a8"
             ],
             [
              0.3333333333333333,
              "#9c179e"
             ],
             [
              0.4444444444444444,
              "#bd3786"
             ],
             [
              0.5555555555555556,
              "#d8576b"
             ],
             [
              0.6666666666666666,
              "#ed7953"
             ],
             [
              0.7777777777777778,
              "#fb9f3a"
             ],
             [
              0.8888888888888888,
              "#fdca26"
             ],
             [
              1,
              "#f0f921"
             ]
            ],
            "type": "histogram2dcontour"
           }
          ],
          "mesh3d": [
           {
            "colorbar": {
             "outlinewidth": 0,
             "ticks": ""
            },
            "type": "mesh3d"
           }
          ],
          "parcoords": [
           {
            "line": {
             "colorbar": {
              "outlinewidth": 0,
              "ticks": ""
             }
            },
            "type": "parcoords"
           }
          ],
          "pie": [
           {
            "automargin": true,
            "type": "pie"
           }
          ],
          "scatter": [
           {
            "fillpattern": {
             "fillmode": "overlay",
             "size": 10,
             "solidity": 0.2
            },
            "type": "scatter"
           }
          ],
          "scatter3d": [
           {
            "line": {
             "colorbar": {
              "outlinewidth": 0,
              "ticks": ""
             }
            },
            "marker": {
             "colorbar": {
              "outlinewidth": 0,
              "ticks": ""
             }
            },
            "type": "scatter3d"
           }
          ],
          "scattercarpet": [
           {
            "marker": {
             "colorbar": {
              "outlinewidth": 0,
              "ticks": ""
             }
            },
            "type": "scattercarpet"
           }
          ],
          "scattergeo": [
           {
            "marker": {
             "colorbar": {
              "outlinewidth": 0,
              "ticks": ""
             }
            },
            "type": "scattergeo"
           }
          ],
          "scattergl": [
           {
            "marker": {
             "colorbar": {
              "outlinewidth": 0,
              "ticks": ""
             }
            },
            "type": "scattergl"
           }
          ],
          "scattermap": [
           {
            "marker": {
             "colorbar": {
              "outlinewidth": 0,
              "ticks": ""
             }
            },
            "type": "scattermap"
           }
          ],
          "scattermapbox": [
           {
            "marker": {
             "colorbar": {
              "outlinewidth": 0,
              "ticks": ""
             }
            },
            "type": "scattermapbox"
           }
          ],
          "scatterpolar": [
           {
            "marker": {
             "colorbar": {
              "outlinewidth": 0,
              "ticks": ""
             }
            },
            "type": "scatterpolar"
           }
          ],
          "scatterpolargl": [
           {
            "marker": {
             "colorbar": {
              "outlinewidth": 0,
              "ticks": ""
             }
            },
            "type": "scatterpolargl"
           }
          ],
          "scatterternary": [
           {
            "marker": {
             "colorbar": {
              "outlinewidth": 0,
              "ticks": ""
             }
            },
            "type": "scatterternary"
           }
          ],
          "surface": [
           {
            "colorbar": {
             "outlinewidth": 0,
             "ticks": ""
            },
            "colorscale": [
             [
              0,
              "#0d0887"
             ],
             [
              0.1111111111111111,
              "#46039f"
             ],
             [
              0.2222222222222222,
              "#7201a8"
             ],
             [
              0.3333333333333333,
              "#9c179e"
             ],
             [
              0.4444444444444444,
              "#bd3786"
             ],
             [
              0.5555555555555556,
              "#d8576b"
             ],
             [
              0.6666666666666666,
              "#ed7953"
             ],
             [
              0.7777777777777778,
              "#fb9f3a"
             ],
             [
              0.8888888888888888,
              "#fdca26"
             ],
             [
              1,
              "#f0f921"
             ]
            ],
            "type": "surface"
           }
          ],
          "table": [
           {
            "cells": {
             "fill": {
              "color": "#EBF0F8"
             },
             "line": {
              "color": "white"
             }
            },
            "header": {
             "fill": {
              "color": "#C8D4E3"
             },
             "line": {
              "color": "white"
             }
            },
            "type": "table"
           }
          ]
         },
         "layout": {
          "annotationdefaults": {
           "arrowcolor": "#2a3f5f",
           "arrowhead": 0,
           "arrowwidth": 1
          },
          "autotypenumbers": "strict",
          "coloraxis": {
           "colorbar": {
            "outlinewidth": 0,
            "ticks": ""
           }
          },
          "colorscale": {
           "diverging": [
            [
             0,
             "#8e0152"
            ],
            [
             0.1,
             "#c51b7d"
            ],
            [
             0.2,
             "#de77ae"
            ],
            [
             0.3,
             "#f1b6da"
            ],
            [
             0.4,
             "#fde0ef"
            ],
            [
             0.5,
             "#f7f7f7"
            ],
            [
             0.6,
             "#e6f5d0"
            ],
            [
             0.7,
             "#b8e186"
            ],
            [
             0.8,
             "#7fbc41"
            ],
            [
             0.9,
             "#4d9221"
            ],
            [
             1,
             "#276419"
            ]
           ],
           "sequential": [
            [
             0,
             "#0d0887"
            ],
            [
             0.1111111111111111,
             "#46039f"
            ],
            [
             0.2222222222222222,
             "#7201a8"
            ],
            [
             0.3333333333333333,
             "#9c179e"
            ],
            [
             0.4444444444444444,
             "#bd3786"
            ],
            [
             0.5555555555555556,
             "#d8576b"
            ],
            [
             0.6666666666666666,
             "#ed7953"
            ],
            [
             0.7777777777777778,
             "#fb9f3a"
            ],
            [
             0.8888888888888888,
             "#fdca26"
            ],
            [
             1,
             "#f0f921"
            ]
           ],
           "sequentialminus": [
            [
             0,
             "#0d0887"
            ],
            [
             0.1111111111111111,
             "#46039f"
            ],
            [
             0.2222222222222222,
             "#7201a8"
            ],
            [
             0.3333333333333333,
             "#9c179e"
            ],
            [
             0.4444444444444444,
             "#bd3786"
            ],
            [
             0.5555555555555556,
             "#d8576b"
            ],
            [
             0.6666666666666666,
             "#ed7953"
            ],
            [
             0.7777777777777778,
             "#fb9f3a"
            ],
            [
             0.8888888888888888,
             "#fdca26"
            ],
            [
             1,
             "#f0f921"
            ]
           ]
          },
          "colorway": [
           "#636efa",
           "#EF553B",
           "#00cc96",
           "#ab63fa",
           "#FFA15A",
           "#19d3f3",
           "#FF6692",
           "#B6E880",
           "#FF97FF",
           "#FECB52"
          ],
          "font": {
           "color": "#2a3f5f"
          },
          "geo": {
           "bgcolor": "white",
           "lakecolor": "white",
           "landcolor": "#E5ECF6",
           "showlakes": true,
           "showland": true,
           "subunitcolor": "white"
          },
          "hoverlabel": {
           "align": "left"
          },
          "hovermode": "closest",
          "mapbox": {
           "style": "light"
          },
          "paper_bgcolor": "white",
          "plot_bgcolor": "#E5ECF6",
          "polar": {
           "angularaxis": {
            "gridcolor": "white",
            "linecolor": "white",
            "ticks": ""
           },
           "bgcolor": "#E5ECF6",
           "radialaxis": {
            "gridcolor": "white",
            "linecolor": "white",
            "ticks": ""
           }
          },
          "scene": {
           "xaxis": {
            "backgroundcolor": "#E5ECF6",
            "gridcolor": "white",
            "gridwidth": 2,
            "linecolor": "white",
            "showbackground": true,
            "ticks": "",
            "zerolinecolor": "white"
           },
           "yaxis": {
            "backgroundcolor": "#E5ECF6",
            "gridcolor": "white",
            "gridwidth": 2,
            "linecolor": "white",
            "showbackground": true,
            "ticks": "",
            "zerolinecolor": "white"
           },
           "zaxis": {
            "backgroundcolor": "#E5ECF6",
            "gridcolor": "white",
            "gridwidth": 2,
            "linecolor": "white",
            "showbackground": true,
            "ticks": "",
            "zerolinecolor": "white"
           }
          },
          "shapedefaults": {
           "line": {
            "color": "#2a3f5f"
           }
          },
          "ternary": {
           "aaxis": {
            "gridcolor": "white",
            "linecolor": "white",
            "ticks": ""
           },
           "baxis": {
            "gridcolor": "white",
            "linecolor": "white",
            "ticks": ""
           },
           "bgcolor": "#E5ECF6",
           "caxis": {
            "gridcolor": "white",
            "linecolor": "white",
            "ticks": ""
           }
          },
          "title": {
           "x": 0.05
          },
          "xaxis": {
           "automargin": true,
           "gridcolor": "white",
           "linecolor": "white",
           "ticks": "",
           "title": {
            "standoff": 15
           },
           "zerolinecolor": "white",
           "zerolinewidth": 2
          },
          "yaxis": {
           "automargin": true,
           "gridcolor": "white",
           "linecolor": "white",
           "ticks": "",
           "title": {
            "standoff": 15
           },
           "zerolinecolor": "white",
           "zerolinewidth": 2
          }
         }
        },
        "title": {
         "text": "Lucro Total da Consultoria por Cenário"
        },
        "xaxis": {
         "anchor": "y",
         "domain": [
          0,
          0.3133333333333333
         ],
         "title": {
          "text": "Cenário ID"
         },
         "type": "category"
        },
        "xaxis2": {
         "anchor": "y2",
         "domain": [
          0.3333333333333333,
          0.6466666666666666
         ],
         "matches": "x",
         "title": {
          "text": "Cenário ID"
         },
         "type": "category"
        },
        "xaxis3": {
         "anchor": "y3",
         "domain": [
          0.6666666666666666,
          0.98
         ],
         "matches": "x",
         "title": {
          "text": "Cenário ID"
         },
         "type": "category"
        },
        "xaxis4": {
         "anchor": "y4",
         "domain": [
          0,
          0.3133333333333333
         ],
         "matches": "x",
         "showticklabels": false,
         "type": "category"
        },
        "xaxis5": {
         "anchor": "y5",
         "domain": [
          0.3333333333333333,
          0.6466666666666666
         ],
         "matches": "x",
         "showticklabels": false,
         "type": "category"
        },
        "xaxis6": {
         "anchor": "y6",
         "domain": [
          0.6666666666666666,
          0.98
         ],
         "matches": "x",
         "showticklabels": false,
         "type": "category"
        },
        "xaxis7": {
         "anchor": "y7",
         "domain": [
          0,
          0.3133333333333333
         ],
         "matches": "x",
         "showticklabels": false,
         "type": "category"
        },
        "xaxis8": {
         "anchor": "y8",
         "domain": [
          0.3333333333333333,
          0.6466666666666666
         ],
         "matches": "x",
         "showticklabels": false,
         "type": "category"
        },
        "xaxis9": {
         "anchor": "y9",
         "domain": [
          0.6666666666666666,
          0.98
         ],
         "matches": "x",
         "showticklabels": false,
         "type": "category"
        },
        "yaxis": {
         "anchor": "x",
         "domain": [
          0,
          0.3133333333333333
         ],
         "title": {
          "text": "Lucro Total Consultoria (5a) (R$)"
         }
        },
        "yaxis2": {
         "anchor": "x2",
         "domain": [
          0,
          0.3133333333333333
         ],
         "matches": "y",
         "showticklabels": false
        },
        "yaxis3": {
         "anchor": "x3",
         "domain": [
          0,
          0.3133333333333333
         ],
         "matches": "y",
         "showticklabels": false
        },
        "yaxis4": {
         "anchor": "x4",
         "domain": [
          0.34333333333333327,
          0.6566666666666665
         ],
         "matches": "y",
         "title": {
          "text": "Lucro Total Consultoria (5a) (R$)"
         }
        },
        "yaxis5": {
         "anchor": "x5",
         "domain": [
          0.34333333333333327,
          0.6566666666666665
         ],
         "matches": "y",
         "showticklabels": false
        },
        "yaxis6": {
         "anchor": "x6",
         "domain": [
          0.34333333333333327,
          0.6566666666666665
         ],
         "matches": "y",
         "showticklabels": false
        },
        "yaxis7": {
         "anchor": "x7",
         "domain": [
          0.6866666666666665,
          0.9999999999999998
         ],
         "matches": "y",
         "title": {
          "text": "Lucro Total Consultoria (5a) (R$)"
         }
        },
        "yaxis8": {
         "anchor": "x8",
         "domain": [
          0.6866666666666665,
          0.9999999999999998
         ],
         "matches": "y",
         "showticklabels": false
        },
        "yaxis9": {
         "anchor": "x9",
         "domain": [
          0.6866666666666665,
          0.9999999999999998
         ],
         "matches": "y",
         "showticklabels": false
        }
       }
      }
     },
     "metadata": {},
     "output_type": "display_data"
    },
    {
     "data": {
      "application/vnd.plotly.v1+json": {
       "config": {
        "plotlyServerURL": "https://plot.ly"
       },
       "data": [
        {
         "alignmentgroup": "True",
         "customdata": [
          [
           "0%",
           "30%",
           "0%"
          ],
          [
           "0%",
           "30%",
           "-20%"
          ],
          [
           "0%",
           "30%",
           "-50%"
          ],
          [
           "0%",
           "45%",
           "0%"
          ],
          [
           "0%",
           "45%",
           "-20%"
          ],
          [
           "0%",
           "45%",
           "-50%"
          ],
          [
           "0%",
           "60%",
           "0%"
          ],
          [
           "0%",
           "60%",
           "-20%"
          ],
          [
           "0%",
           "60%",
           "-50%"
          ],
          [
           "50%",
           "30%",
           "0%"
          ],
          [
           "50%",
           "30%",
           "-20%"
          ],
          [
           "50%",
           "30%",
           "-50%"
          ],
          [
           "50%",
           "45%",
           "0%"
          ],
          [
           "50%",
           "45%",
           "-20%"
          ],
          [
           "50%",
           "45%",
           "-50%"
          ],
          [
           "50%",
           "60%",
           "0%"
          ],
          [
           "50%",
           "60%",
           "-20%"
          ],
          [
           "50%",
           "60%",
           "-50%"
          ],
          [
           "100%",
           "30%",
           "0%"
          ],
          [
           "100%",
           "30%",
           "-20%"
          ],
          [
           "100%",
           "30%",
           "-50%"
          ],
          [
           "100%",
           "45%",
           "0%"
          ],
          [
           "100%",
           "45%",
           "-20%"
          ],
          [
           "100%",
           "45%",
           "-50%"
          ],
          [
           "100%",
           "60%",
           "0%"
          ],
          [
           "100%",
           "60%",
           "-20%"
          ],
          [
           "100%",
           "60%",
           "-50%"
          ]
         ],
         "hovertemplate": "<b>%{hovertext}</b><br><br>Métrica Financeira=Lucro Total Consultoria (5a) (R$)<br>Cenário ID=%{x}<br>Valor (R$)=%{y}<br>Variação CTD (%)=%{customdata[0]}<br>Margem Venda Efetiva (%)=%{customdata[1]}<br>Variação Ganho Cliente Anual (%)=%{customdata[2]}<extra></extra>",
         "hovertext": {
          "bdata": "AAAAAAAA8D8AAAAAAAAAQAAAAAAAAAhAAAAAAAAAEEAAAAAAAAAUQAAAAAAAABhAAAAAAAAAHEAAAAAAAAAgQAAAAAAAACJAAAAAAAAAJEAAAAAAAAAmQAAAAAAAAChAAAAAAAAAKkAAAAAAAAAsQAAAAAAAAC5AAAAAAAAAMEAAAAAAAAAxQAAAAAAAADJAAAAAAAAAM0AAAAAAAAA0QAAAAAAAADVAAAAAAAAANkAAAAAAAAA3QAAAAAAAADhAAAAAAAAAOUAAAAAAAAA6QAAAAAAAADtA",
          "dtype": "f8"
         },
         "legendgroup": "Lucro Total Consultoria (5a) (R$)",
         "marker": {
          "color": "#636efa",
          "pattern": {
           "shape": ""
          }
         },
         "name": "Lucro Total Consultoria (5a) (R$)",
         "offsetgroup": "Lucro Total Consultoria (5a) (R$)",
         "orientation": "v",
         "showlegend": true,
         "textposition": "auto",
         "type": "bar",
         "x": {
          "bdata": "AQIDBAUGBwgJCgsMDQ4PEBESExQVFhcYGRob",
          "dtype": "i1"
         },
         "xaxis": "x",
         "y": {
          "bdata": "AAAAsJMhU0EAAABgm2JPQQAAAOCzqENBexSuh19BU0H2KFwPM6JPQfYoXI9L6ENBAAAAYCthU0EAAADAyuFPQQAAAEDjJ0RBexSuh19BU0H2KFwPM6JPQfYoXI9L6ENBw/UoTBFxU0HD9ShMywBQQYXrURivR0RBAAAAEMOgU0EAAAAQfTBQQQAAAKASp0RBAAAAYCthU0EAAADAyuFPQQAAAEDjJ0RBAAAAEMOgU0EAAAAQfTBQQQAAAKASp0RBAAAAwFrgU0EAAADAFHBQQQAAAABCJkVB",
          "dtype": "f8"
         },
         "yaxis": "y"
        },
        {
         "alignmentgroup": "True",
         "customdata": [
          [
           "0%",
           "30%",
           "0%"
          ],
          [
           "0%",
           "30%",
           "-20%"
          ],
          [
           "0%",
           "30%",
           "-50%"
          ],
          [
           "0%",
           "45%",
           "0%"
          ],
          [
           "0%",
           "45%",
           "-20%"
          ],
          [
           "0%",
           "45%",
           "-50%"
          ],
          [
           "0%",
           "60%",
           "0%"
          ],
          [
           "0%",
           "60%",
           "-20%"
          ],
          [
           "0%",
           "60%",
           "-50%"
          ],
          [
           "50%",
           "30%",
           "0%"
          ],
          [
           "50%",
           "30%",
           "-20%"
          ],
          [
           "50%",
           "30%",
           "-50%"
          ],
          [
           "50%",
           "45%",
           "0%"
          ],
          [
           "50%",
           "45%",
           "-20%"
          ],
          [
           "50%",
           "45%",
           "-50%"
          ],
          [
           "50%",
           "60%",
           "0%"
          ],
          [
           "50%",
           "60%",
           "-20%"
          ],
          [
           "50%",
           "60%",
           "-50%"
          ],
          [
           "100%",
           "30%",
           "0%"
          ],
          [
           "100%",
           "30%",
           "-20%"
          ],
          [
           "100%",
           "30%",
           "-50%"
          ],
          [
           "100%",
           "45%",
           "0%"
          ],
          [
           "100%",
           "45%",
           "-20%"
          ],
          [
           "100%",
           "45%",
           "-50%"
          ],
          [
           "100%",
           "60%",
           "0%"
          ],
          [
           "100%",
           "60%",
           "-20%"
          ],
          [
           "100%",
           "60%",
           "-50%"
          ]
         ],
         "hovertemplate": "<b>%{hovertext}</b><br><br>Métrica Financeira=Ganho Líquido Cliente (5a) (R$)<br>Cenário ID=%{x}<br>Valor (R$)=%{y}<br>Variação CTD (%)=%{customdata[0]}<br>Margem Venda Efetiva (%)=%{customdata[1]}<br>Variação Ganho Cliente Anual (%)=%{customdata[2]}<extra></extra>",
         "hovertext": {
          "bdata": "AAAAAAAA8D8AAAAAAAAAQAAAAAAAAAhAAAAAAAAAEEAAAAAAAAAUQAAAAAAAABhAAAAAAAAAHEAAAAAAAAAgQAAAAAAAACJAAAAAAAAAJEAAAAAAAAAmQAAAAAAAAChAAAAAAAAAKkAAAAAAAAAsQAAAAAAAAC5AAAAAAAAAMEAAAAAAAAAxQAAAAAAAADJAAAAAAAAAM0AAAAAAAAA0QAAAAAAAADVAAAAAAAAANkAAAAAAAAA3QAAAAAAAADhAAAAAAAAAOUAAAAAAAAA6QAAAAAAAADtA",
          "dtype": "f8"
         },
         "legendgroup": "Ganho Líquido Cliente (5a) (R$)",
         "marker": {
          "color": "#EF553B",
          "pattern": {
           "shape": ""
          }
         },
         "name": "Ganho Líquido Cliente (5a) (R$)",
         "offsetgroup": "Ganho Líquido Cliente (5a) (R$)",
         "orientation": "v",
         "showlegend": true,
         "textposition": "auto",
         "type": "bar",
         "x": {
          "bdata": "AQIDBAUGBwgJCgsMDQ4PEBESExQVFhcYGRob",
          "dtype": "i1"
         },
         "xaxis": "x",
         "y": {
          "bdata": "AAAAi5Erl0EAAADLyn+SQQAAAK7SEodBuB6FzZQpl0G4HoUNzn2SQXE9CjPZDodBAAAAEJgnl0EAAABQ0XuSQQAAALjfCodBSOF6APUil0FI4XpALneSQY/C9ZiZAYdBpHA95Pkfl0GkcD0kM3SSQUjhemCj+4ZBAAAAyP4cl0EAAAAIOHGSQQAAACit9YZBAAAAdlgal0EAAAC2kW6SQQAAAIRg8IZBAAAA+14Wl0EAAAA7mGqSQQAAAI5t6IZBAAAAgGUSl0EAAADAnmaSQQAAAJh64IZB",
          "dtype": "f8"
         },
         "yaxis": "y"
        }
       ],
       "layout": {
        "barmode": "group",
        "legend": {
         "title": {
          "text": "Métrica Financeira"
         },
         "tracegroupgap": 0
        },
        "template": {
         "data": {
          "bar": [
           {
            "error_x": {
             "color": "#2a3f5f"
            },
            "error_y": {
             "color": "#2a3f5f"
            },
            "marker": {
             "line": {
              "color": "#E5ECF6",
              "width": 0.5
             },
             "pattern": {
              "fillmode": "overlay",
              "size": 10,
              "solidity": 0.2
             }
            },
            "type": "bar"
           }
          ],
          "barpolar": [
           {
            "marker": {
             "line": {
              "color": "#E5ECF6",
              "width": 0.5
             },
             "pattern": {
              "fillmode": "overlay",
              "size": 10,
              "solidity": 0.2
             }
            },
            "type": "barpolar"
           }
          ],
          "carpet": [
           {
            "aaxis": {
             "endlinecolor": "#2a3f5f",
             "gridcolor": "white",
             "linecolor": "white",
             "minorgridcolor": "white",
             "startlinecolor": "#2a3f5f"
            },
            "baxis": {
             "endlinecolor": "#2a3f5f",
             "gridcolor": "white",
             "linecolor": "white",
             "minorgridcolor": "white",
             "startlinecolor": "#2a3f5f"
            },
            "type": "carpet"
           }
          ],
          "choropleth": [
           {
            "colorbar": {
             "outlinewidth": 0,
             "ticks": ""
            },
            "type": "choropleth"
           }
          ],
          "contour": [
           {
            "colorbar": {
             "outlinewidth": 0,
             "ticks": ""
            },
            "colorscale": [
             [
              0,
              "#0d0887"
             ],
             [
              0.1111111111111111,
              "#46039f"
             ],
             [
              0.2222222222222222,
              "#7201a8"
             ],
             [
              0.3333333333333333,
              "#9c179e"
             ],
             [
              0.4444444444444444,
              "#bd3786"
             ],
             [
              0.5555555555555556,
              "#d8576b"
             ],
             [
              0.6666666666666666,
              "#ed7953"
             ],
             [
              0.7777777777777778,
              "#fb9f3a"
             ],
             [
              0.8888888888888888,
              "#fdca26"
             ],
             [
              1,
              "#f0f921"
             ]
            ],
            "type": "contour"
           }
          ],
          "contourcarpet": [
           {
            "colorbar": {
             "outlinewidth": 0,
             "ticks": ""
            },
            "type": "contourcarpet"
           }
          ],
          "heatmap": [
           {
            "colorbar": {
             "outlinewidth": 0,
             "ticks": ""
            },
            "colorscale": [
             [
              0,
              "#0d0887"
             ],
             [
              0.1111111111111111,
              "#46039f"
             ],
             [
              0.2222222222222222,
              "#7201a8"
             ],
             [
              0.3333333333333333,
              "#9c179e"
             ],
             [
              0.4444444444444444,
              "#bd3786"
             ],
             [
              0.5555555555555556,
              "#d8576b"
             ],
             [
              0.6666666666666666,
              "#ed7953"
             ],
             [
              0.7777777777777778,
              "#fb9f3a"
             ],
             [
              0.8888888888888888,
              "#fdca26"
             ],
             [
              1,
              "#f0f921"
             ]
            ],
            "type": "heatmap"
           }
          ],
          "histogram": [
           {
            "marker": {
             "pattern": {
              "fillmode": "overlay",
              "size": 10,
              "solidity": 0.2
             }
            },
            "type": "histogram"
           }
          ],
          "histogram2d": [
           {
            "colorbar": {
             "outlinewidth": 0,
             "ticks": ""
            },
            "colorscale": [
             [
              0,
              "#0d0887"
             ],
             [
              0.1111111111111111,
              "#46039f"
             ],
             [
              0.2222222222222222,
              "#7201a8"
             ],
             [
              0.3333333333333333,
              "#9c179e"
             ],
             [
              0.4444444444444444,
              "#bd3786"
             ],
             [
              0.5555555555555556,
              "#d8576b"
             ],
             [
              0.6666666666666666,
              "#ed7953"
             ],
             [
              0.7777777777777778,
              "#fb9f3a"
             ],
             [
              0.8888888888888888,
              "#fdca26"
             ],
             [
              1,
              "#f0f921"
             ]
            ],
            "type": "histogram2d"
           }
          ],
          "histogram2dcontour": [
           {
            "colorbar": {
             "outlinewidth": 0,
             "ticks": ""
            },
            "colorscale": [
             [
              0,
              "#0d0887"
             ],
             [
              0.1111111111111111,
              "#46039f"
             ],
             [
              0.2222222222222222,
              "#7201a8"
             ],
             [
              0.3333333333333333,
              "#9c179e"
             ],
             [
              0.4444444444444444,
              "#bd3786"
             ],
             [
              0.5555555555555556,
              "#d8576b"
             ],
             [
              0.6666666666666666,
              "#ed7953"
             ],
             [
              0.7777777777777778,
              "#fb9f3a"
             ],
             [
              0.8888888888888888,
              "#fdca26"
             ],
             [
              1,
              "#f0f921"
             ]
            ],
            "type": "histogram2dcontour"
           }
          ],
          "mesh3d": [
           {
            "colorbar": {
             "outlinewidth": 0,
             "ticks": ""
            },
            "type": "mesh3d"
           }
          ],
          "parcoords": [
           {
            "line": {
             "colorbar": {
              "outlinewidth": 0,
              "ticks": ""
             }
            },
            "type": "parcoords"
           }
          ],
          "pie": [
           {
            "automargin": true,
            "type": "pie"
           }
          ],
          "scatter": [
           {
            "fillpattern": {
             "fillmode": "overlay",
             "size": 10,
             "solidity": 0.2
            },
            "type": "scatter"
           }
          ],
          "scatter3d": [
           {
            "line": {
             "colorbar": {
              "outlinewidth": 0,
              "ticks": ""
             }
            },
            "marker": {
             "colorbar": {
              "outlinewidth": 0,
              "ticks": ""
             }
            },
            "type": "scatter3d"
           }
          ],
          "scattercarpet": [
           {
            "marker": {
             "colorbar": {
              "outlinewidth": 0,
              "ticks": ""
             }
            },
            "type": "scattercarpet"
           }
          ],
          "scattergeo": [
           {
            "marker": {
             "colorbar": {
              "outlinewidth": 0,
              "ticks": ""
             }
            },
            "type": "scattergeo"
           }
          ],
          "scattergl": [
           {
            "marker": {
             "colorbar": {
              "outlinewidth": 0,
              "ticks": ""
             }
            },
            "type": "scattergl"
           }
          ],
          "scattermap": [
           {
            "marker": {
             "colorbar": {
              "outlinewidth": 0,
              "ticks": ""
             }
            },
            "type": "scattermap"
           }
          ],
          "scattermapbox": [
           {
            "marker": {
             "colorbar": {
              "outlinewidth": 0,
              "ticks": ""
             }
            },
            "type": "scattermapbox"
           }
          ],
          "scatterpolar": [
           {
            "marker": {
             "colorbar": {
              "outlinewidth": 0,
              "ticks": ""
             }
            },
            "type": "scatterpolar"
           }
          ],
          "scatterpolargl": [
           {
            "marker": {
             "colorbar": {
              "outlinewidth": 0,
              "ticks": ""
             }
            },
            "type": "scatterpolargl"
           }
          ],
          "scatterternary": [
           {
            "marker": {
             "colorbar": {
              "outlinewidth": 0,
              "ticks": ""
             }
            },
            "type": "scatterternary"
           }
          ],
          "surface": [
           {
            "colorbar": {
             "outlinewidth": 0,
             "ticks": ""
            },
            "colorscale": [
             [
              0,
              "#0d0887"
             ],
             [
              0.1111111111111111,
              "#46039f"
             ],
             [
              0.2222222222222222,
              "#7201a8"
             ],
             [
              0.3333333333333333,
              "#9c179e"
             ],
             [
              0.4444444444444444,
              "#bd3786"
             ],
             [
              0.5555555555555556,
              "#d8576b"
             ],
             [
              0.6666666666666666,
              "#ed7953"
             ],
             [
              0.7777777777777778,
              "#fb9f3a"
             ],
             [
              0.8888888888888888,
              "#fdca26"
             ],
             [
              1,
              "#f0f921"
             ]
            ],
            "type": "surface"
           }
          ],
          "table": [
           {
            "cells": {
             "fill": {
              "color": "#EBF0F8"
             },
             "line": {
              "color": "white"
             }
            },
            "header": {
             "fill": {
              "color": "#C8D4E3"
             },
             "line": {
              "color": "white"
             }
            },
            "type": "table"
           }
          ]
         },
         "layout": {
          "annotationdefaults": {
           "arrowcolor": "#2a3f5f",
           "arrowhead": 0,
           "arrowwidth": 1
          },
          "autotypenumbers": "strict",
          "coloraxis": {
           "colorbar": {
            "outlinewidth": 0,
            "ticks": ""
           }
          },
          "colorscale": {
           "diverging": [
            [
             0,
             "#8e0152"
            ],
            [
             0.1,
             "#c51b7d"
            ],
            [
             0.2,
             "#de77ae"
            ],
            [
             0.3,
             "#f1b6da"
            ],
            [
             0.4,
             "#fde0ef"
            ],
            [
             0.5,
             "#f7f7f7"
            ],
            [
             0.6,
             "#e6f5d0"
            ],
            [
             0.7,
             "#b8e186"
            ],
            [
             0.8,
             "#7fbc41"
            ],
            [
             0.9,
             "#4d9221"
            ],
            [
             1,
             "#276419"
            ]
           ],
           "sequential": [
            [
             0,
             "#0d0887"
            ],
            [
             0.1111111111111111,
             "#46039f"
            ],
            [
             0.2222222222222222,
             "#7201a8"
            ],
            [
             0.3333333333333333,
             "#9c179e"
            ],
            [
             0.4444444444444444,
             "#bd3786"
            ],
            [
             0.5555555555555556,
             "#d8576b"
            ],
            [
             0.6666666666666666,
             "#ed7953"
            ],
            [
             0.7777777777777778,
             "#fb9f3a"
            ],
            [
             0.8888888888888888,
             "#fdca26"
            ],
            [
             1,
             "#f0f921"
            ]
           ],
           "sequentialminus": [
            [
             0,
             "#0d0887"
            ],
            [
             0.1111111111111111,
             "#46039f"
            ],
            [
             0.2222222222222222,
             "#7201a8"
            ],
            [
             0.3333333333333333,
             "#9c179e"
            ],
            [
             0.4444444444444444,
             "#bd3786"
            ],
            [
             0.5555555555555556,
             "#d8576b"
            ],
            [
             0.6666666666666666,
             "#ed7953"
            ],
            [
             0.7777777777777778,
             "#fb9f3a"
            ],
            [
             0.8888888888888888,
             "#fdca26"
            ],
            [
             1,
             "#f0f921"
            ]
           ]
          },
          "colorway": [
           "#636efa",
           "#EF553B",
           "#00cc96",
           "#ab63fa",
           "#FFA15A",
           "#19d3f3",
           "#FF6692",
           "#B6E880",
           "#FF97FF",
           "#FECB52"
          ],
          "font": {
           "color": "#2a3f5f"
          },
          "geo": {
           "bgcolor": "white",
           "lakecolor": "white",
           "landcolor": "#E5ECF6",
           "showlakes": true,
           "showland": true,
           "subunitcolor": "white"
          },
          "hoverlabel": {
           "align": "left"
          },
          "hovermode": "closest",
          "mapbox": {
           "style": "light"
          },
          "paper_bgcolor": "white",
          "plot_bgcolor": "#E5ECF6",
          "polar": {
           "angularaxis": {
            "gridcolor": "white",
            "linecolor": "white",
            "ticks": ""
           },
           "bgcolor": "#E5ECF6",
           "radialaxis": {
            "gridcolor": "white",
            "linecolor": "white",
            "ticks": ""
           }
          },
          "scene": {
           "xaxis": {
            "backgroundcolor": "#E5ECF6",
            "gridcolor": "white",
            "gridwidth": 2,
            "linecolor": "white",
            "showbackground": true,
            "ticks": "",
            "zerolinecolor": "white"
           },
           "yaxis": {
            "backgroundcolor": "#E5ECF6",
            "gridcolor": "white",
            "gridwidth": 2,
            "linecolor": "white",
            "showbackground": true,
            "ticks": "",
            "zerolinecolor": "white"
           },
           "zaxis": {
            "backgroundcolor": "#E5ECF6",
            "gridcolor": "white",
            "gridwidth": 2,
            "linecolor": "white",
            "showbackground": true,
            "ticks": "",
            "zerolinecolor": "white"
           }
          },
          "shapedefaults": {
           "line": {
            "color": "#2a3f5f"
           }
          },
          "ternary": {
           "aaxis": {
            "gridcolor": "white",
            "linecolor": "white",
            "ticks": ""
           },
           "baxis": {
            "gridcolor": "white",
            "linecolor": "white",
            "ticks": ""
           },
           "bgcolor": "#E5ECF6",
           "caxis": {
            "gridcolor": "white",
            "linecolor": "white",
            "ticks": ""
           }
          },
          "title": {
           "x": 0.05
          },
          "xaxis": {
           "automargin": true,
           "gridcolor": "white",
           "linecolor": "white",
           "ticks": "",
           "title": {
            "standoff": 15
           },
           "zerolinecolor": "white",
           "zerolinewidth": 2
          },
          "yaxis": {
           "automargin": true,
           "gridcolor": "white",
           "linecolor": "white",
           "ticks": "",
           "title": {
            "standoff": 15
           },
           "zerolinecolor": "white",
           "zerolinewidth": 2
          }
         }
        },
        "title": {
         "text": "Comparativo: Lucro Consultoria vs. Ganho Líquido Cliente"
        },
        "xaxis": {
         "anchor": "y",
         "domain": [
          0,
          1
         ],
         "title": {
          "text": "Cenário ID"
         },
         "type": "category"
        },
        "yaxis": {
         "anchor": "x",
         "domain": [
          0,
          1
         ],
         "title": {
          "text": "Valor (R$)"
         }
        }
       }
      }
     },
     "metadata": {},
     "output_type": "display_data"
    },
    {
     "data": {
      "application/vnd.plotly.v1+json": {
       "config": {
        "plotlyServerURL": "https://plot.ly"
       },
       "data": [
        {
         "dimensions": [
          {
           "label": "Variação CTD",
           "ticktext": [
            "Base",
            "+50%",
            "+100%"
           ],
           "tickvals": [
            0,
            0.5,
            1
           ],
           "values": {
            "bdata": "AAAAAAAAAAAAAAAAAAAAAAAAAAAAAAAAAAAAAAAAAAAAAAAAAAAAAAAAAAAAAAAAAAAAAAAAAAAAAAAAAAAAAAAAAAAAAAAAAAAAAAAA4D8AAAAAAADgPwAAAAAAAOA/AAAAAAAA4D8AAAAAAADgPwAAAAAAAOA/AAAAAAAA4D8AAAAAAADgPwAAAAAAAOA/AAAAAAAA8D8AAAAAAADwPwAAAAAAAPA/AAAAAAAA8D8AAAAAAADwPwAAAAAAAPA/AAAAAAAA8D8AAAAAAADwPwAAAAAAAPA/",
            "dtype": "f8"
           }
          },
          {
           "label": "Margem Venda",
           "ticktext": [
            "30%",
            "45%",
            "60%"
           ],
           "tickvals": [
            0.3,
            0.45,
            0.6
           ],
           "values": {
            "bdata": "MzMzMzMz0z8zMzMzMzPTPzMzMzMzM9M/zczMzMzM3D/NzMzMzMzcP83MzMzMzNw/MzMzMzMz4z8zMzMzMzPjPzMzMzMzM+M/MzMzMzMz0z8zMzMzMzPTPzMzMzMzM9M/zczMzMzM3D/NzMzMzMzcP83MzMzMzNw/MzMzMzMz4z8zMzMzMzPjPzMzMzMzM+M/MzMzMzMz0z8zMzMzMzPTPzMzMzMzM9M/zczMzMzM3D/NzMzMzMzcP83MzMzMzNw/MzMzMzMz4z8zMzMzMzPjPzMzMzMzM+M/",
            "dtype": "f8"
           }
          },
          {
           "label": "Variação Ganho Cliente",
           "ticktext": [
            "Base",
            "-20%",
            "-50%"
           ],
           "tickvals": [
            0,
            -0.2,
            -0.5
           ],
           "values": {
            "bdata": "AAAAAAAAAACamZmZmZnJvwAAAAAAAOC/AAAAAAAAAACamZmZmZnJvwAAAAAAAOC/AAAAAAAAAACamZmZmZnJvwAAAAAAAOC/AAAAAAAAAACamZmZmZnJvwAAAAAAAOC/AAAAAAAAAACamZmZmZnJvwAAAAAAAOC/AAAAAAAAAACamZmZmZnJvwAAAAAAAOC/AAAAAAAAAACamZmZmZnJvwAAAAAAAOC/AAAAAAAAAACamZmZmZnJvwAAAAAAAOC/AAAAAAAAAACamZmZmZnJvwAAAAAAAOC/",
            "dtype": "f8"
           }
          },
          {
           "label": "Lucro Consultoria (R$)",
           "values": {
            "bdata": "AAAAsJMhU0EAAABgm2JPQQAAAOCzqENBexSuh19BU0H2KFwPM6JPQfYoXI9L6ENBAAAAYCthU0EAAADAyuFPQQAAAEDjJ0RBexSuh19BU0H2KFwPM6JPQfYoXI9L6ENBw/UoTBFxU0HD9ShMywBQQYXrURivR0RBAAAAEMOgU0EAAAAQfTBQQQAAAKASp0RBAAAAYCthU0EAAADAyuFPQQAAAEDjJ0RBAAAAEMOgU0EAAAAQfTBQQQAAAKASp0RBAAAAwFrgU0EAAADAFHBQQQAAAABCJkVB",
            "dtype": "f8"
           }
          },
          {
           "label": "Ganho Cliente (R$)",
           "values": {
            "bdata": "AAAAi5Erl0EAAADLyn+SQQAAAK7SEodBuB6FzZQpl0G4HoUNzn2SQXE9CjPZDodBAAAAEJgnl0EAAABQ0XuSQQAAALjfCodBSOF6APUil0FI4XpALneSQY/C9ZiZAYdBpHA95Pkfl0GkcD0kM3SSQUjhemCj+4ZBAAAAyP4cl0EAAAAIOHGSQQAAACit9YZBAAAAdlgal0EAAAC2kW6SQQAAAIRg8IZBAAAA+14Wl0EAAAA7mGqSQQAAAI5t6IZBAAAAgGUSl0EAAADAnmaSQQAAAJh64IZB",
            "dtype": "f8"
           }
          }
         ],
         "line": {
          "cmax": 5210475,
          "cmin": 2576743.75,
          "color": {
           "bdata": "AAAAsJMhU0EAAABgm2JPQQAAAOCzqENBexSuh19BU0H2KFwPM6JPQfYoXI9L6ENBAAAAYCthU0EAAADAyuFPQQAAAEDjJ0RBexSuh19BU0H2KFwPM6JPQfYoXI9L6ENBw/UoTBFxU0HD9ShMywBQQYXrURivR0RBAAAAEMOgU0EAAAAQfTBQQQAAAKASp0RBAAAAYCthU0EAAADAyuFPQQAAAEDjJ0RBAAAAEMOgU0EAAAAQfTBQQQAAAKASp0RBAAAAwFrgU0EAAADAFHBQQQAAAABCJkVB",
           "dtype": "f8"
          },
          "colorscale": [
           [
            0,
            "#440154"
           ],
           [
            0.1111111111111111,
            "#482878"
           ],
           [
            0.2222222222222222,
            "#3e4989"
           ],
           [
            0.3333333333333333,
            "#31688e"
           ],
           [
            0.4444444444444444,
            "#26828e"
           ],
           [
            0.5555555555555556,
            "#1f9e89"
           ],
           [
            0.6666666666666666,
            "#35b779"
           ],
           [
            0.7777777777777778,
            "#6ece58"
           ],
           [
            0.8888888888888888,
            "#b5de2b"
           ],
           [
            1,
            "#fde725"
           ]
          ],
          "showscale": true
         },
         "type": "parcoords"
        }
       ],
       "layout": {
        "template": {
         "data": {
          "bar": [
           {
            "error_x": {
             "color": "#2a3f5f"
            },
            "error_y": {
             "color": "#2a3f5f"
            },
            "marker": {
             "line": {
              "color": "#E5ECF6",
              "width": 0.5
             },
             "pattern": {
              "fillmode": "overlay",
              "size": 10,
              "solidity": 0.2
             }
            },
            "type": "bar"
           }
          ],
          "barpolar": [
           {
            "marker": {
             "line": {
              "color": "#E5ECF6",
              "width": 0.5
             },
             "pattern": {
              "fillmode": "overlay",
              "size": 10,
              "solidity": 0.2
             }
            },
            "type": "barpolar"
           }
          ],
          "carpet": [
           {
            "aaxis": {
             "endlinecolor": "#2a3f5f",
             "gridcolor": "white",
             "linecolor": "white",
             "minorgridcolor": "white",
             "startlinecolor": "#2a3f5f"
            },
            "baxis": {
             "endlinecolor": "#2a3f5f",
             "gridcolor": "white",
             "linecolor": "white",
             "minorgridcolor": "white",
             "startlinecolor": "#2a3f5f"
            },
            "type": "carpet"
           }
          ],
          "choropleth": [
           {
            "colorbar": {
             "outlinewidth": 0,
             "ticks": ""
            },
            "type": "choropleth"
           }
          ],
          "contour": [
           {
            "colorbar": {
             "outlinewidth": 0,
             "ticks": ""
            },
            "colorscale": [
             [
              0,
              "#0d0887"
             ],
             [
              0.1111111111111111,
              "#46039f"
             ],
             [
              0.2222222222222222,
              "#7201a8"
             ],
             [
              0.3333333333333333,
              "#9c179e"
             ],
             [
              0.4444444444444444,
              "#bd3786"
             ],
             [
              0.5555555555555556,
              "#d8576b"
             ],
             [
              0.6666666666666666,
              "#ed7953"
             ],
             [
              0.7777777777777778,
              "#fb9f3a"
             ],
             [
              0.8888888888888888,
              "#fdca26"
             ],
             [
              1,
              "#f0f921"
             ]
            ],
            "type": "contour"
           }
          ],
          "contourcarpet": [
           {
            "colorbar": {
             "outlinewidth": 0,
             "ticks": ""
            },
            "type": "contourcarpet"
           }
          ],
          "heatmap": [
           {
            "colorbar": {
             "outlinewidth": 0,
             "ticks": ""
            },
            "colorscale": [
             [
              0,
              "#0d0887"
             ],
             [
              0.1111111111111111,
              "#46039f"
             ],
             [
              0.2222222222222222,
              "#7201a8"
             ],
             [
              0.3333333333333333,
              "#9c179e"
             ],
             [
              0.4444444444444444,
              "#bd3786"
             ],
             [
              0.5555555555555556,
              "#d8576b"
             ],
             [
              0.6666666666666666,
              "#ed7953"
             ],
             [
              0.7777777777777778,
              "#fb9f3a"
             ],
             [
              0.8888888888888888,
              "#fdca26"
             ],
             [
              1,
              "#f0f921"
             ]
            ],
            "type": "heatmap"
           }
          ],
          "histogram": [
           {
            "marker": {
             "pattern": {
              "fillmode": "overlay",
              "size": 10,
              "solidity": 0.2
             }
            },
            "type": "histogram"
           }
          ],
          "histogram2d": [
           {
            "colorbar": {
             "outlinewidth": 0,
             "ticks": ""
            },
            "colorscale": [
             [
              0,
              "#0d0887"
             ],
             [
              0.1111111111111111,
              "#46039f"
             ],
             [
              0.2222222222222222,
              "#7201a8"
             ],
             [
              0.3333333333333333,
              "#9c179e"
             ],
             [
              0.4444444444444444,
              "#bd3786"
             ],
             [
              0.5555555555555556,
              "#d8576b"
             ],
             [
              0.6666666666666666,
              "#ed7953"
             ],
             [
              0.7777777777777778,
              "#fb9f3a"
             ],
             [
              0.8888888888888888,
              "#fdca26"
             ],
             [
              1,
              "#f0f921"
             ]
            ],
            "type": "histogram2d"
           }
          ],
          "histogram2dcontour": [
           {
            "colorbar": {
             "outlinewidth": 0,
             "ticks": ""
            },
            "colorscale": [
             [
              0,
              "#0d0887"
             ],
             [
              0.1111111111111111,
              "#46039f"
             ],
             [
              0.2222222222222222,
              "#7201a8"
             ],
             [
              0.3333333333333333,
              "#9c179e"
             ],
             [
              0.4444444444444444,
              "#bd3786"
             ],
             [
              0.5555555555555556,
              "#d8576b"
             ],
             [
              0.6666666666666666,
              "#ed7953"
             ],
             [
              0.7777777777777778,
              "#fb9f3a"
             ],
             [
              0.8888888888888888,
              "#fdca26"
             ],
             [
              1,
              "#f0f921"
             ]
            ],
            "type": "histogram2dcontour"
           }
          ],
          "mesh3d": [
           {
            "colorbar": {
             "outlinewidth": 0,
             "ticks": ""
            },
            "type": "mesh3d"
           }
          ],
          "parcoords": [
           {
            "line": {
             "colorbar": {
              "outlinewidth": 0,
              "ticks": ""
             }
            },
            "type": "parcoords"
           }
          ],
          "pie": [
           {
            "automargin": true,
            "type": "pie"
           }
          ],
          "scatter": [
           {
            "fillpattern": {
             "fillmode": "overlay",
             "size": 10,
             "solidity": 0.2
            },
            "type": "scatter"
           }
          ],
          "scatter3d": [
           {
            "line": {
             "colorbar": {
              "outlinewidth": 0,
              "ticks": ""
             }
            },
            "marker": {
             "colorbar": {
              "outlinewidth": 0,
              "ticks": ""
             }
            },
            "type": "scatter3d"
           }
          ],
          "scattercarpet": [
           {
            "marker": {
             "colorbar": {
              "outlinewidth": 0,
              "ticks": ""
             }
            },
            "type": "scattercarpet"
           }
          ],
          "scattergeo": [
           {
            "marker": {
             "colorbar": {
              "outlinewidth": 0,
              "ticks": ""
             }
            },
            "type": "scattergeo"
           }
          ],
          "scattergl": [
           {
            "marker": {
             "colorbar": {
              "outlinewidth": 0,
              "ticks": ""
             }
            },
            "type": "scattergl"
           }
          ],
          "scattermap": [
           {
            "marker": {
             "colorbar": {
              "outlinewidth": 0,
              "ticks": ""
             }
            },
            "type": "scattermap"
           }
          ],
          "scattermapbox": [
           {
            "marker": {
             "colorbar": {
              "outlinewidth": 0,
              "ticks": ""
             }
            },
            "type": "scattermapbox"
           }
          ],
          "scatterpolar": [
           {
            "marker": {
             "colorbar": {
              "outlinewidth": 0,
              "ticks": ""
             }
            },
            "type": "scatterpolar"
           }
          ],
          "scatterpolargl": [
           {
            "marker": {
             "colorbar": {
              "outlinewidth": 0,
              "ticks": ""
             }
            },
            "type": "scatterpolargl"
           }
          ],
          "scatterternary": [
           {
            "marker": {
             "colorbar": {
              "outlinewidth": 0,
              "ticks": ""
             }
            },
            "type": "scatterternary"
           }
          ],
          "surface": [
           {
            "colorbar": {
             "outlinewidth": 0,
             "ticks": ""
            },
            "colorscale": [
             [
              0,
              "#0d0887"
             ],
             [
              0.1111111111111111,
              "#46039f"
             ],
             [
              0.2222222222222222,
              "#7201a8"
             ],
             [
              0.3333333333333333,
              "#9c179e"
             ],
             [
              0.4444444444444444,
              "#bd3786"
             ],
             [
              0.5555555555555556,
              "#d8576b"
             ],
             [
              0.6666666666666666,
              "#ed7953"
             ],
             [
              0.7777777777777778,
              "#fb9f3a"
             ],
             [
              0.8888888888888888,
              "#fdca26"
             ],
             [
              1,
              "#f0f921"
             ]
            ],
            "type": "surface"
           }
          ],
          "table": [
           {
            "cells": {
             "fill": {
              "color": "#EBF0F8"
             },
             "line": {
              "color": "white"
             }
            },
            "header": {
             "fill": {
              "color": "#C8D4E3"
             },
             "line": {
              "color": "white"
             }
            },
            "type": "table"
           }
          ]
         },
         "layout": {
          "annotationdefaults": {
           "arrowcolor": "#2a3f5f",
           "arrowhead": 0,
           "arrowwidth": 1
          },
          "autotypenumbers": "strict",
          "coloraxis": {
           "colorbar": {
            "outlinewidth": 0,
            "ticks": ""
           }
          },
          "colorscale": {
           "diverging": [
            [
             0,
             "#8e0152"
            ],
            [
             0.1,
             "#c51b7d"
            ],
            [
             0.2,
             "#de77ae"
            ],
            [
             0.3,
             "#f1b6da"
            ],
            [
             0.4,
             "#fde0ef"
            ],
            [
             0.5,
             "#f7f7f7"
            ],
            [
             0.6,
             "#e6f5d0"
            ],
            [
             0.7,
             "#b8e186"
            ],
            [
             0.8,
             "#7fbc41"
            ],
            [
             0.9,
             "#4d9221"
            ],
            [
             1,
             "#276419"
            ]
           ],
           "sequential": [
            [
             0,
             "#0d0887"
            ],
            [
             0.1111111111111111,
             "#46039f"
            ],
            [
             0.2222222222222222,
             "#7201a8"
            ],
            [
             0.3333333333333333,
             "#9c179e"
            ],
            [
             0.4444444444444444,
             "#bd3786"
            ],
            [
             0.5555555555555556,
             "#d8576b"
            ],
            [
             0.6666666666666666,
             "#ed7953"
            ],
            [
             0.7777777777777778,
             "#fb9f3a"
            ],
            [
             0.8888888888888888,
             "#fdca26"
            ],
            [
             1,
             "#f0f921"
            ]
           ],
           "sequentialminus": [
            [
             0,
             "#0d0887"
            ],
            [
             0.1111111111111111,
             "#46039f"
            ],
            [
             0.2222222222222222,
             "#7201a8"
            ],
            [
             0.3333333333333333,
             "#9c179e"
            ],
            [
             0.4444444444444444,
             "#bd3786"
            ],
            [
             0.5555555555555556,
             "#d8576b"
            ],
            [
             0.6666666666666666,
             "#ed7953"
            ],
            [
             0.7777777777777778,
             "#fb9f3a"
            ],
            [
             0.8888888888888888,
             "#fdca26"
            ],
            [
             1,
             "#f0f921"
            ]
           ]
          },
          "colorway": [
           "#636efa",
           "#EF553B",
           "#00cc96",
           "#ab63fa",
           "#FFA15A",
           "#19d3f3",
           "#FF6692",
           "#B6E880",
           "#FF97FF",
           "#FECB52"
          ],
          "font": {
           "color": "#2a3f5f"
          },
          "geo": {
           "bgcolor": "white",
           "lakecolor": "white",
           "landcolor": "#E5ECF6",
           "showlakes": true,
           "showland": true,
           "subunitcolor": "white"
          },
          "hoverlabel": {
           "align": "left"
          },
          "hovermode": "closest",
          "mapbox": {
           "style": "light"
          },
          "paper_bgcolor": "white",
          "plot_bgcolor": "#E5ECF6",
          "polar": {
           "angularaxis": {
            "gridcolor": "white",
            "linecolor": "white",
            "ticks": ""
           },
           "bgcolor": "#E5ECF6",
           "radialaxis": {
            "gridcolor": "white",
            "linecolor": "white",
            "ticks": ""
           }
          },
          "scene": {
           "xaxis": {
            "backgroundcolor": "#E5ECF6",
            "gridcolor": "white",
            "gridwidth": 2,
            "linecolor": "white",
            "showbackground": true,
            "ticks": "",
            "zerolinecolor": "white"
           },
           "yaxis": {
            "backgroundcolor": "#E5ECF6",
            "gridcolor": "white",
            "gridwidth": 2,
            "linecolor": "white",
            "showbackground": true,
            "ticks": "",
            "zerolinecolor": "white"
           },
           "zaxis": {
            "backgroundcolor": "#E5ECF6",
            "gridcolor": "white",
            "gridwidth": 2,
            "linecolor": "white",
            "showbackground": true,
            "ticks": "",
            "zerolinecolor": "white"
           }
          },
          "shapedefaults": {
           "line": {
            "color": "#2a3f5f"
           }
          },
          "ternary": {
           "aaxis": {
            "gridcolor": "white",
            "linecolor": "white",
            "ticks": ""
           },
           "baxis": {
            "gridcolor": "white",
            "linecolor": "white",
            "ticks": ""
           },
           "bgcolor": "#E5ECF6",
           "caxis": {
            "gridcolor": "white",
            "linecolor": "white",
            "ticks": ""
           }
          },
          "title": {
           "x": 0.05
          },
          "xaxis": {
           "automargin": true,
           "gridcolor": "white",
           "linecolor": "white",
           "ticks": "",
           "title": {
            "standoff": 15
           },
           "zerolinecolor": "white",
           "zerolinewidth": 2
          },
          "yaxis": {
           "automargin": true,
           "gridcolor": "white",
           "linecolor": "white",
           "ticks": "",
           "title": {
            "standoff": 15
           },
           "zerolinecolor": "white",
           "zerolinewidth": 2
          }
         }
        },
        "title": {
         "text": "Análise de Trade-offs dos Cenários (Parallel Coordinates)"
        }
       }
      }
     },
     "metadata": {},
     "output_type": "display_data"
    }
   ],
   "source": [
    "import pandas as pd\n",
    "import plotly.express as px\n",
    "import plotly.graph_objects as go\n",
    "\n",
    "# --- 1. Valores de Base ---\n",
    "ctd_base = 217062.50\n",
    "margem_venda_base_perc = 0.30 # 30%\n",
    "ganho_bruto_cliente_anual_base = 20493000.00\n",
    "percentual_bonus_consultoria = 0.05 # 5%\n",
    "teto_bonus_anual_consultoria = 1000000.00\n",
    "bonus_custo_gestao_anual = 10000.00 # Custo fixo da consultoria para gerir o bônus\n",
    "\n",
    "# --- 2. Definições das Variações ---\n",
    "variacoes_ctd_perc_sobre_base = [0, 0.50, 1.00] # 0%, +50%, +100% do CTD_base\n",
    "# A margem efetiva será 30%, 45%, 60%\n",
    "# O valor aqui é o multiplicador da margem base. (1+0) = 30%, (1+0.5)=45% etc.\n",
    "# Correto é aplicar a margem diretamente\n",
    "margens_venda_efetivas_perc = [0.30, 0.45, 0.60]\n",
    "variacoes_ganho_cliente_perc_sobre_base = [0, -0.20, -0.50] # 0%, -20%, -50% do GBAC_base\n",
    "\n",
    "# --- 3. Geração dos Dados dos Cenários ---\n",
    "dados_cenarios = []\n",
    "cenario_id = 0\n",
    "\n",
    "for var_ctd_fator in variacoes_ctd_perc_sobre_base:\n",
    "    ctd_cenario = ctd_base * (1 + var_ctd_fator)\n",
    "    \n",
    "    for margem_venda_efetiva in margens_venda_efetivas_perc:\n",
    "        receita_dev_cenario = ctd_cenario * (1 + margem_venda_efetiva)\n",
    "        lucro_dev_cenario = receita_dev_cenario - ctd_cenario\n",
    "        \n",
    "        for var_ganho_cliente_fator in variacoes_ganho_cliente_perc_sobre_base:\n",
    "            cenario_id += 1\n",
    "            \n",
    "            ganho_bruto_cliente_anual_cenario = ganho_bruto_cliente_anual_base * (1 + var_ganho_cliente_fator)\n",
    "            \n",
    "            bonus_calculado_anual_cenario = ganho_bruto_cliente_anual_cenario * percentual_bonus_consultoria\n",
    "            receita_bonus_anual_efetiva_cenario = min(bonus_calculado_anual_cenario, teto_bonus_anual_consultoria)\n",
    "            \n",
    "            lucro_bonus_total_cenario_5a = (receita_bonus_anual_efetiva_cenario - bonus_custo_gestao_anual) * 5\n",
    "            \n",
    "            lucro_total_consultoria_cenario_5a = lucro_dev_cenario + lucro_bonus_total_cenario_5a\n",
    "            \n",
    "            gasto_cliente_total_cenario_5a = receita_dev_cenario + (receita_bonus_anual_efetiva_cenario * 5)\n",
    "            \n",
    "            ganho_liquido_cliente_cenario_5a = (ganho_bruto_cliente_anual_cenario * 5) - gasto_cliente_total_cenario_5a\n",
    "            \n",
    "            dados_cenarios.append({\n",
    "                'Cenário ID': cenario_id,\n",
    "                'Variação CTD (%)': f\"{var_ctd_fator*100:.0f}%\",\n",
    "                'Margem Venda Efetiva (%)': f\"{margem_venda_efetiva*100:.0f}%\",\n",
    "                'Variação Ganho Cliente Anual (%)': f\"{var_ganho_cliente_fator*100:.0f}%\", # Mudou de \"Variação Bônus\"\n",
    "                'CTD Cenário (R$)': round(ctd_cenario, 2),\n",
    "                'Receita Dev. Cenário (R$)': round(receita_dev_cenario, 2),\n",
    "                'Lucro Dev. Cenário (R$)': round(lucro_dev_cenario, 2),\n",
    "                'GBAC Cenário (R$)': round(ganho_bruto_cliente_anual_cenario, 2), # Adicionado\n",
    "                'RBAC Cenário (R$)': round(receita_bonus_anual_efetiva_cenario, 2), # Mudou de \"Receita Bônus Anual Cenário\"\n",
    "                'Lucro Bônus Total (5a) (R$)': round(lucro_bonus_total_cenario_5a, 2),\n",
    "                'Lucro Total Consultoria (5a) (R$)': round(lucro_total_consultoria_cenario_5a, 2),\n",
    "                'Gasto Cliente Total (5a) (R$)': round(gasto_cliente_total_cenario_5a, 2),\n",
    "                'Ganho Líquido Cliente (5a) (R$)': round(ganho_liquido_cliente_cenario_5a, 2)\n",
    "            })\n",
    "\n",
    "df_cenarios = pd.DataFrame(dados_cenarios)\n",
    "\n",
    "# --- 4. Visualizações Interativas com Plotly ---\n",
    "\n",
    "# Mostrar a tabela de resultados no console para verificação\n",
    "# print(\"Tabela de Resultados dos Cenários:\")\n",
    "# print(df_cenarios.to_string())\n",
    "# print(\"\\n\")\n",
    "\n",
    "\n",
    "# Gráfico 1: Lucro da Consultoria vs. Ganho Líquido do Cliente\n",
    "fig1 = px.scatter(df_cenarios, \n",
    "                  x='Ganho Líquido Cliente (5a) (R$)', \n",
    "                  y='Lucro Total Consultoria (5a) (R$)',\n",
    "                  color='Variação CTD (%)',\n",
    "                  size_max=15, # Ajustar tamanho para melhor visualização\n",
    "                  symbol='Variação Ganho Cliente Anual (%)', # Mudou\n",
    "                  hover_name='Cenário ID',\n",
    "                  hover_data=df_cenarios.columns, # Mostrar todos os dados no hover\n",
    "                  title='Elasticidade: Lucro Consultoria vs. Ganho Líquido Cliente (5 Anos)')\n",
    "fig1.update_layout(xaxis_title=\"Ganho Líquido do Cliente (5 Anos)\",\n",
    "                   yaxis_title=\"Lucro Total da Consultoria (5 Anos)\",\n",
    "                   legend_title_text='Legenda')\n",
    "fig1.show()\n",
    "\n",
    "# Gráfico 2: Impacto das variações no Lucro Total da Consultoria (Bar Chart)\n",
    "fig2 = px.bar(df_cenarios.sort_values('Lucro Total Consultoria (5a) (R$)'), \n",
    "              x='Cenário ID', \n",
    "              y='Lucro Total Consultoria (5a) (R$)',\n",
    "              color='Variação Ganho Cliente Anual (%)', # Mudou\n",
    "              facet_col='Variação CTD (%)',\n",
    "              facet_row='Margem Venda Efetiva (%)',\n",
    "              hover_name='Cenário ID',\n",
    "              hover_data=['GBAC Cenário (R$)', 'RBAC Cenário (R$)'],\n",
    "              title='Lucro Total da Consultoria por Cenário')\n",
    "fig2.update_xaxes(type='category') \n",
    "fig2.show()\n",
    "\n",
    "# Gráfico 3: Comparativo Lucro Consultoria e Ganho Cliente por Cenário\n",
    "df_melted = df_cenarios.melt(id_vars=['Cenário ID', 'Variação CTD (%)', 'Margem Venda Efetiva (%)', 'Variação Ganho Cliente Anual (%)'], \n",
    "                             value_vars=['Lucro Total Consultoria (5a) (R$)', 'Ganho Líquido Cliente (5a) (R$)'],\n",
    "                             var_name='Métrica Financeira', \n",
    "                             value_name='Valor (R$)')\n",
    "\n",
    "fig3 = px.bar(df_melted, \n",
    "              x='Cenário ID', \n",
    "              y='Valor (R$)',\n",
    "              color='Métrica Financeira',\n",
    "              barmode='group',\n",
    "              hover_name='Cenário ID',\n",
    "              hover_data=['Variação CTD (%)', 'Margem Venda Efetiva (%)', 'Variação Ganho Cliente Anual (%)'],\n",
    "              title='Comparativo: Lucro Consultoria vs. Ganho Líquido Cliente')\n",
    "fig3.update_xaxes(type='category')\n",
    "fig3.show()\n",
    "\n",
    "# Gráfico 4: Parallel Coordinates Plot para visualizar trade-offs\n",
    "df_parallel = df_cenarios.copy()\n",
    "\n",
    "# Converter colunas de variação para numérico para o plot\n",
    "df_parallel['CTD_Var_Num'] = df_parallel['Variação CTD (%)'].str.rstrip('%').astype(float) / 100\n",
    "df_parallel['Margem_Num'] = df_parallel['Margem Venda Efetiva (%)'].str.rstrip('%').astype(float) / 100\n",
    "df_parallel['Ganho_Cliente_Var_Num'] = df_parallel['Variação Ganho Cliente Anual (%)'].str.rstrip('%').astype(float) / 100 # Mudou\n",
    "\n",
    "dimensions = [\n",
    "    dict(label='Variação CTD', values=df_parallel['CTD_Var_Num'],\n",
    "         tickvals=[0, 0.5, 1], ticktext=['Base', '+50%', '+100%']),\n",
    "    dict(label='Margem Venda', values=df_parallel['Margem_Num'],\n",
    "         tickvals=[0.30, 0.45, 0.60], ticktext=['30%', '45%', '60%']),\n",
    "    dict(label='Variação Ganho Cliente', values=df_parallel['Ganho_Cliente_Var_Num'], # Mudou\n",
    "         tickvals=[0, -0.2, -0.5], ticktext=['Base', '-20%', '-50%']),\n",
    "    dict(label='Lucro Consultoria (R$)', values=df_parallel['Lucro Total Consultoria (5a) (R$)']),\n",
    "    dict(label='Ganho Cliente (R$)', values=df_parallel['Ganho Líquido Cliente (5a) (R$)'])\n",
    "]\n",
    "\n",
    "fig4 = go.Figure(data=go.Parcoords(\n",
    "    line=dict(color=df_parallel['Lucro Total Consultoria (5a) (R$)'], \n",
    "              colorscale='viridis',\n",
    "              showscale=True,\n",
    "              cmin=df_parallel['Lucro Total Consultoria (5a) (R$)'].min(),\n",
    "              cmax=df_parallel['Lucro Total Consultoria (5a) (R$)'].max()),\n",
    "    dimensions=dimensions\n",
    "))\n",
    "fig4.update_layout(title='Análise de Trade-offs dos Cenários (Parallel Coordinates)')\n",
    "fig4.show()"
   ]
  }
 ],
 "metadata": {
  "kernelspec": {
   "display_name": "Planejamento2025",
   "language": "python",
   "name": "planejamento2025"
  },
  "language_info": {
   "name": "python",
   "version": "3.12.10"
  }
 },
 "nbformat": 4,
 "nbformat_minor": 5
}
